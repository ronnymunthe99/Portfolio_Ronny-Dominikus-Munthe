{
  "cells": [
    {
      "cell_type": "markdown",
      "metadata": {
        "id": "uenfs6BqK8by"
      },
      "source": [
        "1. Data Preparation"
      ]
    },
    {
      "cell_type": "code",
      "source": [
        "from google.colab import drive\n",
        "drive.mount('/content/drive')"
      ],
      "metadata": {
        "colab": {
          "base_uri": "https://localhost:8080/"
        },
        "id": "vrC4EED6msgN",
        "outputId": "611f87b8-55b8-4bd2-cea0-9a6f8ae802c0"
      },
      "execution_count": null,
      "outputs": [
        {
          "output_type": "stream",
          "name": "stdout",
          "text": [
            "Mounted at /content/drive\n"
          ]
        }
      ]
    },
    {
      "cell_type": "code",
      "execution_count": null,
      "metadata": {
        "id": "roemrHVrK6Ea"
      },
      "outputs": [],
      "source": [
        "import pandas as pd\n",
        "import numpy as np\n",
        "import pandas as pd\n",
        "import matplotlib.pyplot as plt\n",
        "%matplotlib inline\n",
        "import seaborn as sns\n",
        "import scipy.stats as stat\n",
        "import pylab \n",
        "\n",
        "train_data = pd.read_csv('/content/drive/MyDrive/HealthKathon/HealthKaton/sampling_healtkathon2022/sampling_healtkathon2022.csv')"
      ]
    },
    {
      "cell_type": "code",
      "execution_count": null,
      "metadata": {
        "colab": {
          "base_uri": "https://localhost:8080/"
        },
        "id": "5H8RbFZELZSm",
        "outputId": "e8dfa95a-c3d3-487c-d0c9-0603ac1dbf6e"
      },
      "outputs": [
        {
          "output_type": "stream",
          "name": "stdout",
          "text": [
            "        id  id_peserta  dati2 typefaskes  usia jenkel  pisat  \\\n",
            "0   165666         486     17         KL    48      P    1.0   \n",
            "1  1010828         520     17          A    63      L    1.0   \n",
            "2   166042         523     17         KL    53      P    1.0   \n",
            "3   168937         549     17         KL    54      P    1.0   \n",
            "4  1005899         549     17          A    53      P    1.0   \n",
            "\n",
            "                  tgldatang                 tglpulang  jenispel  ...  \\\n",
            "0  2018-07-25T17:00:00.000Z  2018-07-25T17:00:00.000Z         2  ...   \n",
            "1  2019-05-27T17:00:00.000Z  2019-05-30T17:00:00.000Z         1  ...   \n",
            "2  2019-07-16T17:00:00.000Z  2019-07-16T17:00:00.000Z         2  ...   \n",
            "3  2019-10-17T17:00:00.000Z  2019-10-17T17:00:00.000Z         2  ...   \n",
            "4  2018-04-18T17:00:00.000Z  2018-04-18T17:00:00.000Z         2  ...   \n",
            "\n",
            "        biaya jenispulang         cbg  kelasrawat  kdsa  kdsp  kdsr  kdsi  \\\n",
            "0    184300.0         1.0    Q-5-42-0           3  None  None  None  None   \n",
            "1  10628400.0         1.0  D-4-13-III           1  None  None  None  None   \n",
            "2    187300.0         1.0    Q-5-44-0           3  None  None  None  None   \n",
            "3    187300.0         1.0    Q-5-44-0           3  None  None  None  None   \n",
            "4    381600.0         1.0    Q-5-44-0           3  None  None  None  None   \n",
            "\n",
            "   kdsd label  \n",
            "0  None     0  \n",
            "1  None     0  \n",
            "2  None     0  \n",
            "3  None     0  \n",
            "4  None     0  \n",
            "\n",
            "[5 rows x 22 columns]\n"
          ]
        }
      ],
      "source": [
        "print(train_data.head())"
      ]
    },
    {
      "cell_type": "code",
      "execution_count": null,
      "metadata": {
        "colab": {
          "base_uri": "https://localhost:8080/"
        },
        "id": "x52xmQzYMPD9",
        "outputId": "bc563523-1651-49d5-ceee-09e3efe111b1"
      },
      "outputs": [
        {
          "output_type": "stream",
          "name": "stdout",
          "text": [
            "Number of rows in training set: 11401882\n"
          ]
        }
      ],
      "source": [
        "print(\"Number of rows in training set: {}\".format(len(train_data)))"
      ]
    },
    {
      "cell_type": "code",
      "execution_count": null,
      "metadata": {
        "colab": {
          "base_uri": "https://localhost:8080/"
        },
        "id": "a1Rj37-PmpSF",
        "outputId": "7d0538e7-8425-490a-8fd8-fa599417103f"
      },
      "outputs": [
        {
          "output_type": "stream",
          "name": "stdout",
          "text": [
            "<class 'pandas.core.frame.DataFrame'>\n",
            "RangeIndex: 11401882 entries, 0 to 11401881\n",
            "Data columns (total 22 columns):\n",
            " #   Column       Dtype  \n",
            "---  ------       -----  \n",
            " 0   id           int64  \n",
            " 1   id_peserta   int64  \n",
            " 2   dati2        int64  \n",
            " 3   typefaskes   object \n",
            " 4   usia         int64  \n",
            " 5   jenkel       object \n",
            " 6   pisat        float64\n",
            " 7   tgldatang    object \n",
            " 8   tglpulang    object \n",
            " 9   jenispel     int64  \n",
            " 10  politujuan   object \n",
            " 11  diagfktp     object \n",
            " 12  biaya        float64\n",
            " 13  jenispulang  float64\n",
            " 14  cbg          object \n",
            " 15  kelasrawat   int64  \n",
            " 16  kdsa         object \n",
            " 17  kdsp         object \n",
            " 18  kdsr         object \n",
            " 19  kdsi         object \n",
            " 20  kdsd         object \n",
            " 21  label        int64  \n",
            "dtypes: float64(3), int64(7), object(12)\n",
            "memory usage: 1.9+ GB\n"
          ]
        }
      ],
      "source": [
        "train_data.info()"
      ]
    },
    {
      "cell_type": "code",
      "execution_count": null,
      "metadata": {
        "colab": {
          "base_uri": "https://localhost:8080/",
          "height": 1000
        },
        "id": "fREG6-LEmpSF",
        "outputId": "83d074f3-3a27-4a26-c08e-de938f027197"
      },
      "outputs": [
        {
          "output_type": "execute_result",
          "data": {
            "text/plain": [
              "                id  id_peserta  dati2 typefaskes  usia jenkel  pisat  \\\n",
              "0           165666         486     17         KL    48      P    1.0   \n",
              "2           166042         523     17         KL    53      P    1.0   \n",
              "3           168937         549     17         KL    54      P    1.0   \n",
              "4          1005899         549     17          A    53      P    1.0   \n",
              "5            51010         663      8         SD    50      P    1.0   \n",
              "...            ...         ...    ...        ...   ...    ...    ...   \n",
              "11401780  10985829     8521022    229          B     0      L    4.0   \n",
              "11401796   3012230     8522521    151         SC     0      P    4.0   \n",
              "11401808   5635918     8523018     62          C     0      L    4.0   \n",
              "11401812   2555450     8523236    136         SC     0      L    4.0   \n",
              "11401848   4414048     8525837    223          C     6      L    4.0   \n",
              "\n",
              "                         tgldatang                 tglpulang  jenispel  ...  \\\n",
              "0         2018-07-25T17:00:00.000Z  2018-07-25T17:00:00.000Z         2  ...   \n",
              "2         2019-07-16T17:00:00.000Z  2019-07-16T17:00:00.000Z         2  ...   \n",
              "3         2019-10-17T17:00:00.000Z  2019-10-17T17:00:00.000Z         2  ...   \n",
              "4         2018-04-18T17:00:00.000Z  2018-04-18T17:00:00.000Z         2  ...   \n",
              "5         2018-12-26T17:00:00.000Z  2018-12-26T17:00:00.000Z         2  ...   \n",
              "...                            ...                       ...       ...  ...   \n",
              "11401780  2020-12-25T17:00:00.000Z  2020-12-25T17:00:00.000Z         2  ...   \n",
              "11401796  2020-12-29T17:00:00.000Z  2020-12-29T17:00:00.000Z         2  ...   \n",
              "11401808  2020-12-23T17:00:00.000Z  2020-12-23T17:00:00.000Z         2  ...   \n",
              "11401812  2020-12-29T17:00:00.000Z  2020-12-29T17:00:00.000Z         2  ...   \n",
              "11401848  2020-12-29T17:00:00.000Z  2020-12-29T17:00:00.000Z         2  ...   \n",
              "\n",
              "             biaya jenispulang       cbg  kelasrawat  kdsa  kdsp  kdsr  kdsi  \\\n",
              "0         184300.0         1.0  Q-5-42-0           3  None  None  None  None   \n",
              "2         187300.0         1.0  Q-5-44-0           3  None  None  None  None   \n",
              "3         187300.0         1.0  Q-5-44-0           3  None  None  None  None   \n",
              "4         381600.0         1.0  Q-5-44-0           3  None  None  None  None   \n",
              "5         155000.0         2.0  Q-5-33-0           3  None  None  None  None   \n",
              "...            ...         ...       ...         ...   ...   ...   ...   ...   \n",
              "11401780  246000.0         1.0  P-9-14-0           3  None  None  None  None   \n",
              "11401796  308800.0         1.0  P-9-17-0           3  None  None  None  None   \n",
              "11401808  296700.0         4.0  P-9-17-0           3  None  None  None  None   \n",
              "11401812  253300.0         1.0  P-9-14-0           3  None  None  None  None   \n",
              "11401848  181400.0         1.0  Q-5-44-0           3  None  None  None  None   \n",
              "\n",
              "          kdsd label  \n",
              "0         None     0  \n",
              "2         None     0  \n",
              "3         None     0  \n",
              "4         None     0  \n",
              "5         None     0  \n",
              "...        ...   ...  \n",
              "11401780  None     0  \n",
              "11401796  None     0  \n",
              "11401808  None     0  \n",
              "11401812  None     0  \n",
              "11401848  None     0  \n",
              "\n",
              "[7183932 rows x 22 columns]"
            ],
            "text/html": [
              "\n",
              "  <div id=\"df-0c538e03-945e-463f-8c31-a674e7b217ef\">\n",
              "    <div class=\"colab-df-container\">\n",
              "      <div>\n",
              "<style scoped>\n",
              "    .dataframe tbody tr th:only-of-type {\n",
              "        vertical-align: middle;\n",
              "    }\n",
              "\n",
              "    .dataframe tbody tr th {\n",
              "        vertical-align: top;\n",
              "    }\n",
              "\n",
              "    .dataframe thead th {\n",
              "        text-align: right;\n",
              "    }\n",
              "</style>\n",
              "<table border=\"1\" class=\"dataframe\">\n",
              "  <thead>\n",
              "    <tr style=\"text-align: right;\">\n",
              "      <th></th>\n",
              "      <th>id</th>\n",
              "      <th>id_peserta</th>\n",
              "      <th>dati2</th>\n",
              "      <th>typefaskes</th>\n",
              "      <th>usia</th>\n",
              "      <th>jenkel</th>\n",
              "      <th>pisat</th>\n",
              "      <th>tgldatang</th>\n",
              "      <th>tglpulang</th>\n",
              "      <th>jenispel</th>\n",
              "      <th>...</th>\n",
              "      <th>biaya</th>\n",
              "      <th>jenispulang</th>\n",
              "      <th>cbg</th>\n",
              "      <th>kelasrawat</th>\n",
              "      <th>kdsa</th>\n",
              "      <th>kdsp</th>\n",
              "      <th>kdsr</th>\n",
              "      <th>kdsi</th>\n",
              "      <th>kdsd</th>\n",
              "      <th>label</th>\n",
              "    </tr>\n",
              "  </thead>\n",
              "  <tbody>\n",
              "    <tr>\n",
              "      <th>0</th>\n",
              "      <td>165666</td>\n",
              "      <td>486</td>\n",
              "      <td>17</td>\n",
              "      <td>KL</td>\n",
              "      <td>48</td>\n",
              "      <td>P</td>\n",
              "      <td>1.0</td>\n",
              "      <td>2018-07-25T17:00:00.000Z</td>\n",
              "      <td>2018-07-25T17:00:00.000Z</td>\n",
              "      <td>2</td>\n",
              "      <td>...</td>\n",
              "      <td>184300.0</td>\n",
              "      <td>1.0</td>\n",
              "      <td>Q-5-42-0</td>\n",
              "      <td>3</td>\n",
              "      <td>None</td>\n",
              "      <td>None</td>\n",
              "      <td>None</td>\n",
              "      <td>None</td>\n",
              "      <td>None</td>\n",
              "      <td>0</td>\n",
              "    </tr>\n",
              "    <tr>\n",
              "      <th>2</th>\n",
              "      <td>166042</td>\n",
              "      <td>523</td>\n",
              "      <td>17</td>\n",
              "      <td>KL</td>\n",
              "      <td>53</td>\n",
              "      <td>P</td>\n",
              "      <td>1.0</td>\n",
              "      <td>2019-07-16T17:00:00.000Z</td>\n",
              "      <td>2019-07-16T17:00:00.000Z</td>\n",
              "      <td>2</td>\n",
              "      <td>...</td>\n",
              "      <td>187300.0</td>\n",
              "      <td>1.0</td>\n",
              "      <td>Q-5-44-0</td>\n",
              "      <td>3</td>\n",
              "      <td>None</td>\n",
              "      <td>None</td>\n",
              "      <td>None</td>\n",
              "      <td>None</td>\n",
              "      <td>None</td>\n",
              "      <td>0</td>\n",
              "    </tr>\n",
              "    <tr>\n",
              "      <th>3</th>\n",
              "      <td>168937</td>\n",
              "      <td>549</td>\n",
              "      <td>17</td>\n",
              "      <td>KL</td>\n",
              "      <td>54</td>\n",
              "      <td>P</td>\n",
              "      <td>1.0</td>\n",
              "      <td>2019-10-17T17:00:00.000Z</td>\n",
              "      <td>2019-10-17T17:00:00.000Z</td>\n",
              "      <td>2</td>\n",
              "      <td>...</td>\n",
              "      <td>187300.0</td>\n",
              "      <td>1.0</td>\n",
              "      <td>Q-5-44-0</td>\n",
              "      <td>3</td>\n",
              "      <td>None</td>\n",
              "      <td>None</td>\n",
              "      <td>None</td>\n",
              "      <td>None</td>\n",
              "      <td>None</td>\n",
              "      <td>0</td>\n",
              "    </tr>\n",
              "    <tr>\n",
              "      <th>4</th>\n",
              "      <td>1005899</td>\n",
              "      <td>549</td>\n",
              "      <td>17</td>\n",
              "      <td>A</td>\n",
              "      <td>53</td>\n",
              "      <td>P</td>\n",
              "      <td>1.0</td>\n",
              "      <td>2018-04-18T17:00:00.000Z</td>\n",
              "      <td>2018-04-18T17:00:00.000Z</td>\n",
              "      <td>2</td>\n",
              "      <td>...</td>\n",
              "      <td>381600.0</td>\n",
              "      <td>1.0</td>\n",
              "      <td>Q-5-44-0</td>\n",
              "      <td>3</td>\n",
              "      <td>None</td>\n",
              "      <td>None</td>\n",
              "      <td>None</td>\n",
              "      <td>None</td>\n",
              "      <td>None</td>\n",
              "      <td>0</td>\n",
              "    </tr>\n",
              "    <tr>\n",
              "      <th>5</th>\n",
              "      <td>51010</td>\n",
              "      <td>663</td>\n",
              "      <td>8</td>\n",
              "      <td>SD</td>\n",
              "      <td>50</td>\n",
              "      <td>P</td>\n",
              "      <td>1.0</td>\n",
              "      <td>2018-12-26T17:00:00.000Z</td>\n",
              "      <td>2018-12-26T17:00:00.000Z</td>\n",
              "      <td>2</td>\n",
              "      <td>...</td>\n",
              "      <td>155000.0</td>\n",
              "      <td>2.0</td>\n",
              "      <td>Q-5-33-0</td>\n",
              "      <td>3</td>\n",
              "      <td>None</td>\n",
              "      <td>None</td>\n",
              "      <td>None</td>\n",
              "      <td>None</td>\n",
              "      <td>None</td>\n",
              "      <td>0</td>\n",
              "    </tr>\n",
              "    <tr>\n",
              "      <th>...</th>\n",
              "      <td>...</td>\n",
              "      <td>...</td>\n",
              "      <td>...</td>\n",
              "      <td>...</td>\n",
              "      <td>...</td>\n",
              "      <td>...</td>\n",
              "      <td>...</td>\n",
              "      <td>...</td>\n",
              "      <td>...</td>\n",
              "      <td>...</td>\n",
              "      <td>...</td>\n",
              "      <td>...</td>\n",
              "      <td>...</td>\n",
              "      <td>...</td>\n",
              "      <td>...</td>\n",
              "      <td>...</td>\n",
              "      <td>...</td>\n",
              "      <td>...</td>\n",
              "      <td>...</td>\n",
              "      <td>...</td>\n",
              "      <td>...</td>\n",
              "    </tr>\n",
              "    <tr>\n",
              "      <th>11401780</th>\n",
              "      <td>10985829</td>\n",
              "      <td>8521022</td>\n",
              "      <td>229</td>\n",
              "      <td>B</td>\n",
              "      <td>0</td>\n",
              "      <td>L</td>\n",
              "      <td>4.0</td>\n",
              "      <td>2020-12-25T17:00:00.000Z</td>\n",
              "      <td>2020-12-25T17:00:00.000Z</td>\n",
              "      <td>2</td>\n",
              "      <td>...</td>\n",
              "      <td>246000.0</td>\n",
              "      <td>1.0</td>\n",
              "      <td>P-9-14-0</td>\n",
              "      <td>3</td>\n",
              "      <td>None</td>\n",
              "      <td>None</td>\n",
              "      <td>None</td>\n",
              "      <td>None</td>\n",
              "      <td>None</td>\n",
              "      <td>0</td>\n",
              "    </tr>\n",
              "    <tr>\n",
              "      <th>11401796</th>\n",
              "      <td>3012230</td>\n",
              "      <td>8522521</td>\n",
              "      <td>151</td>\n",
              "      <td>SC</td>\n",
              "      <td>0</td>\n",
              "      <td>P</td>\n",
              "      <td>4.0</td>\n",
              "      <td>2020-12-29T17:00:00.000Z</td>\n",
              "      <td>2020-12-29T17:00:00.000Z</td>\n",
              "      <td>2</td>\n",
              "      <td>...</td>\n",
              "      <td>308800.0</td>\n",
              "      <td>1.0</td>\n",
              "      <td>P-9-17-0</td>\n",
              "      <td>3</td>\n",
              "      <td>None</td>\n",
              "      <td>None</td>\n",
              "      <td>None</td>\n",
              "      <td>None</td>\n",
              "      <td>None</td>\n",
              "      <td>0</td>\n",
              "    </tr>\n",
              "    <tr>\n",
              "      <th>11401808</th>\n",
              "      <td>5635918</td>\n",
              "      <td>8523018</td>\n",
              "      <td>62</td>\n",
              "      <td>C</td>\n",
              "      <td>0</td>\n",
              "      <td>L</td>\n",
              "      <td>4.0</td>\n",
              "      <td>2020-12-23T17:00:00.000Z</td>\n",
              "      <td>2020-12-23T17:00:00.000Z</td>\n",
              "      <td>2</td>\n",
              "      <td>...</td>\n",
              "      <td>296700.0</td>\n",
              "      <td>4.0</td>\n",
              "      <td>P-9-17-0</td>\n",
              "      <td>3</td>\n",
              "      <td>None</td>\n",
              "      <td>None</td>\n",
              "      <td>None</td>\n",
              "      <td>None</td>\n",
              "      <td>None</td>\n",
              "      <td>0</td>\n",
              "    </tr>\n",
              "    <tr>\n",
              "      <th>11401812</th>\n",
              "      <td>2555450</td>\n",
              "      <td>8523236</td>\n",
              "      <td>136</td>\n",
              "      <td>SC</td>\n",
              "      <td>0</td>\n",
              "      <td>L</td>\n",
              "      <td>4.0</td>\n",
              "      <td>2020-12-29T17:00:00.000Z</td>\n",
              "      <td>2020-12-29T17:00:00.000Z</td>\n",
              "      <td>2</td>\n",
              "      <td>...</td>\n",
              "      <td>253300.0</td>\n",
              "      <td>1.0</td>\n",
              "      <td>P-9-14-0</td>\n",
              "      <td>3</td>\n",
              "      <td>None</td>\n",
              "      <td>None</td>\n",
              "      <td>None</td>\n",
              "      <td>None</td>\n",
              "      <td>None</td>\n",
              "      <td>0</td>\n",
              "    </tr>\n",
              "    <tr>\n",
              "      <th>11401848</th>\n",
              "      <td>4414048</td>\n",
              "      <td>8525837</td>\n",
              "      <td>223</td>\n",
              "      <td>C</td>\n",
              "      <td>6</td>\n",
              "      <td>L</td>\n",
              "      <td>4.0</td>\n",
              "      <td>2020-12-29T17:00:00.000Z</td>\n",
              "      <td>2020-12-29T17:00:00.000Z</td>\n",
              "      <td>2</td>\n",
              "      <td>...</td>\n",
              "      <td>181400.0</td>\n",
              "      <td>1.0</td>\n",
              "      <td>Q-5-44-0</td>\n",
              "      <td>3</td>\n",
              "      <td>None</td>\n",
              "      <td>None</td>\n",
              "      <td>None</td>\n",
              "      <td>None</td>\n",
              "      <td>None</td>\n",
              "      <td>0</td>\n",
              "    </tr>\n",
              "  </tbody>\n",
              "</table>\n",
              "<p>7183932 rows × 22 columns</p>\n",
              "</div>\n",
              "      <button class=\"colab-df-convert\" onclick=\"convertToInteractive('df-0c538e03-945e-463f-8c31-a674e7b217ef')\"\n",
              "              title=\"Convert this dataframe to an interactive table.\"\n",
              "              style=\"display:none;\">\n",
              "        \n",
              "  <svg xmlns=\"http://www.w3.org/2000/svg\" height=\"24px\"viewBox=\"0 0 24 24\"\n",
              "       width=\"24px\">\n",
              "    <path d=\"M0 0h24v24H0V0z\" fill=\"none\"/>\n",
              "    <path d=\"M18.56 5.44l.94 2.06.94-2.06 2.06-.94-2.06-.94-.94-2.06-.94 2.06-2.06.94zm-11 1L8.5 8.5l.94-2.06 2.06-.94-2.06-.94L8.5 2.5l-.94 2.06-2.06.94zm10 10l.94 2.06.94-2.06 2.06-.94-2.06-.94-.94-2.06-.94 2.06-2.06.94z\"/><path d=\"M17.41 7.96l-1.37-1.37c-.4-.4-.92-.59-1.43-.59-.52 0-1.04.2-1.43.59L10.3 9.45l-7.72 7.72c-.78.78-.78 2.05 0 2.83L4 21.41c.39.39.9.59 1.41.59.51 0 1.02-.2 1.41-.59l7.78-7.78 2.81-2.81c.8-.78.8-2.07 0-2.86zM5.41 20L4 18.59l7.72-7.72 1.47 1.35L5.41 20z\"/>\n",
              "  </svg>\n",
              "      </button>\n",
              "      \n",
              "  <style>\n",
              "    .colab-df-container {\n",
              "      display:flex;\n",
              "      flex-wrap:wrap;\n",
              "      gap: 12px;\n",
              "    }\n",
              "\n",
              "    .colab-df-convert {\n",
              "      background-color: #E8F0FE;\n",
              "      border: none;\n",
              "      border-radius: 50%;\n",
              "      cursor: pointer;\n",
              "      display: none;\n",
              "      fill: #1967D2;\n",
              "      height: 32px;\n",
              "      padding: 0 0 0 0;\n",
              "      width: 32px;\n",
              "    }\n",
              "\n",
              "    .colab-df-convert:hover {\n",
              "      background-color: #E2EBFA;\n",
              "      box-shadow: 0px 1px 2px rgba(60, 64, 67, 0.3), 0px 1px 3px 1px rgba(60, 64, 67, 0.15);\n",
              "      fill: #174EA6;\n",
              "    }\n",
              "\n",
              "    [theme=dark] .colab-df-convert {\n",
              "      background-color: #3B4455;\n",
              "      fill: #D2E3FC;\n",
              "    }\n",
              "\n",
              "    [theme=dark] .colab-df-convert:hover {\n",
              "      background-color: #434B5C;\n",
              "      box-shadow: 0px 1px 3px 1px rgba(0, 0, 0, 0.15);\n",
              "      filter: drop-shadow(0px 1px 2px rgba(0, 0, 0, 0.3));\n",
              "      fill: #FFFFFF;\n",
              "    }\n",
              "  </style>\n",
              "\n",
              "      <script>\n",
              "        const buttonEl =\n",
              "          document.querySelector('#df-0c538e03-945e-463f-8c31-a674e7b217ef button.colab-df-convert');\n",
              "        buttonEl.style.display =\n",
              "          google.colab.kernel.accessAllowed ? 'block' : 'none';\n",
              "\n",
              "        async function convertToInteractive(key) {\n",
              "          const element = document.querySelector('#df-0c538e03-945e-463f-8c31-a674e7b217ef');\n",
              "          const dataTable =\n",
              "            await google.colab.kernel.invokeFunction('convertToInteractive',\n",
              "                                                     [key], {});\n",
              "          if (!dataTable) return;\n",
              "\n",
              "          const docLinkHtml = 'Like what you see? Visit the ' +\n",
              "            '<a target=\"_blank\" href=https://colab.research.google.com/notebooks/data_table.ipynb>data table notebook</a>'\n",
              "            + ' to learn more about interactive tables.';\n",
              "          element.innerHTML = '';\n",
              "          dataTable['output_type'] = 'display_data';\n",
              "          await google.colab.output.renderOutput(dataTable, element);\n",
              "          const docLink = document.createElement('div');\n",
              "          docLink.innerHTML = docLinkHtml;\n",
              "          element.appendChild(docLink);\n",
              "        }\n",
              "      </script>\n",
              "    </div>\n",
              "  </div>\n",
              "  "
            ]
          },
          "metadata": {},
          "execution_count": 6
        }
      ],
      "source": [
        "train_data = train_data.dropna(axis=0)\n",
        "train_data"
      ]
    },
    {
      "cell_type": "code",
      "execution_count": null,
      "metadata": {
        "id": "0uN8MdMvmpSG"
      },
      "outputs": [],
      "source": [
        "train_data = train_data[~train_data.duplicated()]"
      ]
    },
    {
      "cell_type": "code",
      "execution_count": null,
      "metadata": {
        "colab": {
          "base_uri": "https://localhost:8080/"
        },
        "id": "JO8qK5DKmpSH",
        "outputId": "5045370d-771f-4bc0-8599-3f6d62bbee61"
      },
      "outputs": [
        {
          "output_type": "execute_result",
          "data": {
            "text/plain": [
              "id             7183929\n",
              "id_peserta     5397465\n",
              "dati2              488\n",
              "typefaskes          26\n",
              "usia               111\n",
              "jenkel               2\n",
              "pisat                5\n",
              "tgldatang         1096\n",
              "tglpulang         1096\n",
              "jenispel             2\n",
              "politujuan         255\n",
              "diagfktp         15460\n",
              "biaya             4410\n",
              "jenispulang          5\n",
              "cbg                384\n",
              "kelasrawat           3\n",
              "kdsa                 2\n",
              "kdsp                 6\n",
              "kdsr                 2\n",
              "kdsi                 4\n",
              "kdsd                 8\n",
              "label                2\n",
              "dtype: int64"
            ]
          },
          "metadata": {},
          "execution_count": 8
        }
      ],
      "source": [
        "train_data.nunique()"
      ]
    },
    {
      "cell_type": "code",
      "execution_count": null,
      "metadata": {
        "id": "dD1sI-DNmpSI"
      },
      "outputs": [],
      "source": [
        "train_data = train_data.drop(['tgldatang','tglpulang','politujuan','diagfktp','cbg','kelasrawat','kdsa','kdsp','kdsr','kdsi','kdsd'], axis=1)"
      ]
    },
    {
      "cell_type": "code",
      "execution_count": null,
      "metadata": {
        "colab": {
          "base_uri": "https://localhost:8080/",
          "height": 424
        },
        "id": "oeX4pvDNOLAV",
        "outputId": "4fd10253-1276-460a-a9e5-5a07d38cccde"
      },
      "outputs": [
        {
          "output_type": "execute_result",
          "data": {
            "text/plain": [
              "                id  id_peserta  dati2  typefaskes  usia  jenkel  pisat  \\\n",
              "0           165666         486     17           0    48       1    1.0   \n",
              "2           166042         523     17           0    53       1    1.0   \n",
              "3           168937         549     17           0    54       1    1.0   \n",
              "4          1005899         549     17           1    53       1    1.0   \n",
              "5            51010         663      8           2    50       1    1.0   \n",
              "...            ...         ...    ...         ...   ...     ...    ...   \n",
              "11401780  10985829     8521022    229           5     0       0    4.0   \n",
              "11401796   3012230     8522521    151           7     0       1    4.0   \n",
              "11401808   5635918     8523018     62           4     0       0    4.0   \n",
              "11401812   2555450     8523236    136           7     0       0    4.0   \n",
              "11401848   4414048     8525837    223           4     6       0    4.0   \n",
              "\n",
              "          jenispel     biaya  jenispulang  label  \n",
              "0                2  184300.0          1.0      0  \n",
              "2                2  187300.0          1.0      0  \n",
              "3                2  187300.0          1.0      0  \n",
              "4                2  381600.0          1.0      0  \n",
              "5                2  155000.0          2.0      0  \n",
              "...            ...       ...          ...    ...  \n",
              "11401780         2  246000.0          1.0      0  \n",
              "11401796         2  308800.0          1.0      0  \n",
              "11401808         2  296700.0          4.0      0  \n",
              "11401812         2  253300.0          1.0      0  \n",
              "11401848         2  181400.0          1.0      0  \n",
              "\n",
              "[7183929 rows x 11 columns]"
            ],
            "text/html": [
              "\n",
              "  <div id=\"df-73ecd17d-24a8-4123-9326-0f1beb05351b\">\n",
              "    <div class=\"colab-df-container\">\n",
              "      <div>\n",
              "<style scoped>\n",
              "    .dataframe tbody tr th:only-of-type {\n",
              "        vertical-align: middle;\n",
              "    }\n",
              "\n",
              "    .dataframe tbody tr th {\n",
              "        vertical-align: top;\n",
              "    }\n",
              "\n",
              "    .dataframe thead th {\n",
              "        text-align: right;\n",
              "    }\n",
              "</style>\n",
              "<table border=\"1\" class=\"dataframe\">\n",
              "  <thead>\n",
              "    <tr style=\"text-align: right;\">\n",
              "      <th></th>\n",
              "      <th>id</th>\n",
              "      <th>id_peserta</th>\n",
              "      <th>dati2</th>\n",
              "      <th>typefaskes</th>\n",
              "      <th>usia</th>\n",
              "      <th>jenkel</th>\n",
              "      <th>pisat</th>\n",
              "      <th>jenispel</th>\n",
              "      <th>biaya</th>\n",
              "      <th>jenispulang</th>\n",
              "      <th>label</th>\n",
              "    </tr>\n",
              "  </thead>\n",
              "  <tbody>\n",
              "    <tr>\n",
              "      <th>0</th>\n",
              "      <td>165666</td>\n",
              "      <td>486</td>\n",
              "      <td>17</td>\n",
              "      <td>0</td>\n",
              "      <td>48</td>\n",
              "      <td>1</td>\n",
              "      <td>1.0</td>\n",
              "      <td>2</td>\n",
              "      <td>184300.0</td>\n",
              "      <td>1.0</td>\n",
              "      <td>0</td>\n",
              "    </tr>\n",
              "    <tr>\n",
              "      <th>2</th>\n",
              "      <td>166042</td>\n",
              "      <td>523</td>\n",
              "      <td>17</td>\n",
              "      <td>0</td>\n",
              "      <td>53</td>\n",
              "      <td>1</td>\n",
              "      <td>1.0</td>\n",
              "      <td>2</td>\n",
              "      <td>187300.0</td>\n",
              "      <td>1.0</td>\n",
              "      <td>0</td>\n",
              "    </tr>\n",
              "    <tr>\n",
              "      <th>3</th>\n",
              "      <td>168937</td>\n",
              "      <td>549</td>\n",
              "      <td>17</td>\n",
              "      <td>0</td>\n",
              "      <td>54</td>\n",
              "      <td>1</td>\n",
              "      <td>1.0</td>\n",
              "      <td>2</td>\n",
              "      <td>187300.0</td>\n",
              "      <td>1.0</td>\n",
              "      <td>0</td>\n",
              "    </tr>\n",
              "    <tr>\n",
              "      <th>4</th>\n",
              "      <td>1005899</td>\n",
              "      <td>549</td>\n",
              "      <td>17</td>\n",
              "      <td>1</td>\n",
              "      <td>53</td>\n",
              "      <td>1</td>\n",
              "      <td>1.0</td>\n",
              "      <td>2</td>\n",
              "      <td>381600.0</td>\n",
              "      <td>1.0</td>\n",
              "      <td>0</td>\n",
              "    </tr>\n",
              "    <tr>\n",
              "      <th>5</th>\n",
              "      <td>51010</td>\n",
              "      <td>663</td>\n",
              "      <td>8</td>\n",
              "      <td>2</td>\n",
              "      <td>50</td>\n",
              "      <td>1</td>\n",
              "      <td>1.0</td>\n",
              "      <td>2</td>\n",
              "      <td>155000.0</td>\n",
              "      <td>2.0</td>\n",
              "      <td>0</td>\n",
              "    </tr>\n",
              "    <tr>\n",
              "      <th>...</th>\n",
              "      <td>...</td>\n",
              "      <td>...</td>\n",
              "      <td>...</td>\n",
              "      <td>...</td>\n",
              "      <td>...</td>\n",
              "      <td>...</td>\n",
              "      <td>...</td>\n",
              "      <td>...</td>\n",
              "      <td>...</td>\n",
              "      <td>...</td>\n",
              "      <td>...</td>\n",
              "    </tr>\n",
              "    <tr>\n",
              "      <th>11401780</th>\n",
              "      <td>10985829</td>\n",
              "      <td>8521022</td>\n",
              "      <td>229</td>\n",
              "      <td>5</td>\n",
              "      <td>0</td>\n",
              "      <td>0</td>\n",
              "      <td>4.0</td>\n",
              "      <td>2</td>\n",
              "      <td>246000.0</td>\n",
              "      <td>1.0</td>\n",
              "      <td>0</td>\n",
              "    </tr>\n",
              "    <tr>\n",
              "      <th>11401796</th>\n",
              "      <td>3012230</td>\n",
              "      <td>8522521</td>\n",
              "      <td>151</td>\n",
              "      <td>7</td>\n",
              "      <td>0</td>\n",
              "      <td>1</td>\n",
              "      <td>4.0</td>\n",
              "      <td>2</td>\n",
              "      <td>308800.0</td>\n",
              "      <td>1.0</td>\n",
              "      <td>0</td>\n",
              "    </tr>\n",
              "    <tr>\n",
              "      <th>11401808</th>\n",
              "      <td>5635918</td>\n",
              "      <td>8523018</td>\n",
              "      <td>62</td>\n",
              "      <td>4</td>\n",
              "      <td>0</td>\n",
              "      <td>0</td>\n",
              "      <td>4.0</td>\n",
              "      <td>2</td>\n",
              "      <td>296700.0</td>\n",
              "      <td>4.0</td>\n",
              "      <td>0</td>\n",
              "    </tr>\n",
              "    <tr>\n",
              "      <th>11401812</th>\n",
              "      <td>2555450</td>\n",
              "      <td>8523236</td>\n",
              "      <td>136</td>\n",
              "      <td>7</td>\n",
              "      <td>0</td>\n",
              "      <td>0</td>\n",
              "      <td>4.0</td>\n",
              "      <td>2</td>\n",
              "      <td>253300.0</td>\n",
              "      <td>1.0</td>\n",
              "      <td>0</td>\n",
              "    </tr>\n",
              "    <tr>\n",
              "      <th>11401848</th>\n",
              "      <td>4414048</td>\n",
              "      <td>8525837</td>\n",
              "      <td>223</td>\n",
              "      <td>4</td>\n",
              "      <td>6</td>\n",
              "      <td>0</td>\n",
              "      <td>4.0</td>\n",
              "      <td>2</td>\n",
              "      <td>181400.0</td>\n",
              "      <td>1.0</td>\n",
              "      <td>0</td>\n",
              "    </tr>\n",
              "  </tbody>\n",
              "</table>\n",
              "<p>7183929 rows × 11 columns</p>\n",
              "</div>\n",
              "      <button class=\"colab-df-convert\" onclick=\"convertToInteractive('df-73ecd17d-24a8-4123-9326-0f1beb05351b')\"\n",
              "              title=\"Convert this dataframe to an interactive table.\"\n",
              "              style=\"display:none;\">\n",
              "        \n",
              "  <svg xmlns=\"http://www.w3.org/2000/svg\" height=\"24px\"viewBox=\"0 0 24 24\"\n",
              "       width=\"24px\">\n",
              "    <path d=\"M0 0h24v24H0V0z\" fill=\"none\"/>\n",
              "    <path d=\"M18.56 5.44l.94 2.06.94-2.06 2.06-.94-2.06-.94-.94-2.06-.94 2.06-2.06.94zm-11 1L8.5 8.5l.94-2.06 2.06-.94-2.06-.94L8.5 2.5l-.94 2.06-2.06.94zm10 10l.94 2.06.94-2.06 2.06-.94-2.06-.94-.94-2.06-.94 2.06-2.06.94z\"/><path d=\"M17.41 7.96l-1.37-1.37c-.4-.4-.92-.59-1.43-.59-.52 0-1.04.2-1.43.59L10.3 9.45l-7.72 7.72c-.78.78-.78 2.05 0 2.83L4 21.41c.39.39.9.59 1.41.59.51 0 1.02-.2 1.41-.59l7.78-7.78 2.81-2.81c.8-.78.8-2.07 0-2.86zM5.41 20L4 18.59l7.72-7.72 1.47 1.35L5.41 20z\"/>\n",
              "  </svg>\n",
              "      </button>\n",
              "      \n",
              "  <style>\n",
              "    .colab-df-container {\n",
              "      display:flex;\n",
              "      flex-wrap:wrap;\n",
              "      gap: 12px;\n",
              "    }\n",
              "\n",
              "    .colab-df-convert {\n",
              "      background-color: #E8F0FE;\n",
              "      border: none;\n",
              "      border-radius: 50%;\n",
              "      cursor: pointer;\n",
              "      display: none;\n",
              "      fill: #1967D2;\n",
              "      height: 32px;\n",
              "      padding: 0 0 0 0;\n",
              "      width: 32px;\n",
              "    }\n",
              "\n",
              "    .colab-df-convert:hover {\n",
              "      background-color: #E2EBFA;\n",
              "      box-shadow: 0px 1px 2px rgba(60, 64, 67, 0.3), 0px 1px 3px 1px rgba(60, 64, 67, 0.15);\n",
              "      fill: #174EA6;\n",
              "    }\n",
              "\n",
              "    [theme=dark] .colab-df-convert {\n",
              "      background-color: #3B4455;\n",
              "      fill: #D2E3FC;\n",
              "    }\n",
              "\n",
              "    [theme=dark] .colab-df-convert:hover {\n",
              "      background-color: #434B5C;\n",
              "      box-shadow: 0px 1px 3px 1px rgba(0, 0, 0, 0.15);\n",
              "      filter: drop-shadow(0px 1px 2px rgba(0, 0, 0, 0.3));\n",
              "      fill: #FFFFFF;\n",
              "    }\n",
              "  </style>\n",
              "\n",
              "      <script>\n",
              "        const buttonEl =\n",
              "          document.querySelector('#df-73ecd17d-24a8-4123-9326-0f1beb05351b button.colab-df-convert');\n",
              "        buttonEl.style.display =\n",
              "          google.colab.kernel.accessAllowed ? 'block' : 'none';\n",
              "\n",
              "        async function convertToInteractive(key) {\n",
              "          const element = document.querySelector('#df-73ecd17d-24a8-4123-9326-0f1beb05351b');\n",
              "          const dataTable =\n",
              "            await google.colab.kernel.invokeFunction('convertToInteractive',\n",
              "                                                     [key], {});\n",
              "          if (!dataTable) return;\n",
              "\n",
              "          const docLinkHtml = 'Like what you see? Visit the ' +\n",
              "            '<a target=\"_blank\" href=https://colab.research.google.com/notebooks/data_table.ipynb>data table notebook</a>'\n",
              "            + ' to learn more about interactive tables.';\n",
              "          element.innerHTML = '';\n",
              "          dataTable['output_type'] = 'display_data';\n",
              "          await google.colab.output.renderOutput(dataTable, element);\n",
              "          const docLink = document.createElement('div');\n",
              "          docLink.innerHTML = docLinkHtml;\n",
              "          element.appendChild(docLink);\n",
              "        }\n",
              "      </script>\n",
              "    </div>\n",
              "  </div>\n",
              "  "
            ]
          },
          "metadata": {},
          "execution_count": 11
        }
      ],
      "source": [
        "train_data"
      ]
    },
    {
      "cell_type": "code",
      "execution_count": null,
      "metadata": {
        "id": "gsPBIiIaRYyN"
      },
      "outputs": [],
      "source": [
        "train_data=train_data.drop_duplicates()"
      ]
    },
    {
      "cell_type": "code",
      "execution_count": null,
      "metadata": {
        "colab": {
          "base_uri": "https://localhost:8080/"
        },
        "id": "AxcrJbj7mpSP",
        "outputId": "6f46bd7e-82be-422b-8c35-e88ddf62d0c8"
      },
      "outputs": [
        {
          "output_type": "stream",
          "name": "stdout",
          "text": [
            "<class 'pandas.core.frame.DataFrame'>\n",
            "Int64Index: 7183929 entries, 0 to 11401848\n",
            "Data columns (total 11 columns):\n",
            " #   Column       Dtype  \n",
            "---  ------       -----  \n",
            " 0   id           int64  \n",
            " 1   id_peserta   int64  \n",
            " 2   dati2        int64  \n",
            " 3   typefaskes   int64  \n",
            " 4   usia         int64  \n",
            " 5   jenkel       int64  \n",
            " 6   pisat        float64\n",
            " 7   jenispel     int64  \n",
            " 8   biaya        float64\n",
            " 9   jenispulang  float64\n",
            " 10  label        int64  \n",
            "dtypes: float64(3), int64(8)\n",
            "memory usage: 657.7 MB\n"
          ]
        }
      ],
      "source": [
        "train_data.info()"
      ]
    },
    {
      "cell_type": "code",
      "execution_count": null,
      "metadata": {
        "colab": {
          "base_uri": "https://localhost:8080/"
        },
        "id": "8_TkD21fmpSR",
        "outputId": "9ed24f6a-c2cf-47e3-c29a-f5244c28f935"
      },
      "outputs": [
        {
          "output_type": "stream",
          "name": "stdout",
          "text": [
            "<class 'pandas.core.frame.DataFrame'>\n",
            "Int64Index: 7183929 entries, 0 to 11401848\n",
            "Data columns (total 11 columns):\n",
            " #   Column       Dtype  \n",
            "---  ------       -----  \n",
            " 0   id           int64  \n",
            " 1   id_peserta   int64  \n",
            " 2   dati2        int64  \n",
            " 3   typefaskes   int64  \n",
            " 4   usia         int64  \n",
            " 5   jenkel       int64  \n",
            " 6   pisat        float64\n",
            " 7   jenispel     int64  \n",
            " 8   biaya        float64\n",
            " 9   jenispulang  float64\n",
            " 10  label        int64  \n",
            "dtypes: float64(3), int64(8)\n",
            "memory usage: 657.7 MB\n"
          ]
        }
      ],
      "source": [
        "train_data.info()"
      ]
    },
    {
      "cell_type": "code",
      "execution_count": null,
      "metadata": {
        "id": "EBK5VPeUmpSS"
      },
      "outputs": [],
      "source": [
        "train_data = train_data.fillna(0)"
      ]
    },
    {
      "cell_type": "code",
      "execution_count": null,
      "metadata": {
        "id": "CKOAlgkDmpSS"
      },
      "outputs": [],
      "source": [
        "columns_to_be_added_as_features=['id','id_peserta','dati2','typefaskes','usia','jenkel','pisat','jenispel','biaya','jenispulang','label']"
      ]
    },
    {
      "cell_type": "code",
      "execution_count": null,
      "metadata": {
        "id": "Z0VvtpsWmpST"
      },
      "outputs": [],
      "source": [
        "from sklearn.preprocessing import StandardScaler, MinMaxScaler\n",
        "from sklearn.linear_model import LogisticRegression\n",
        "from sklearn.ensemble import RandomForestClassifier\n",
        "from sklearn.model_selection import train_test_split\n",
        "from sklearn.metrics import accuracy_score, recall_score, precision_score, f1_score, confusion_matrix, roc_curve, roc_auc_score"
      ]
    },
    {
      "cell_type": "code",
      "execution_count": null,
      "metadata": {
        "colab": {
          "base_uri": "https://localhost:8080/"
        },
        "id": "FHHsaI1zRJZ1",
        "outputId": "5218e0ef-3442-4195-a2b4-61b97470f433"
      },
      "outputs": [
        {
          "output_type": "execute_result",
          "data": {
            "text/plain": [
              "(5747143, 1436786)"
            ]
          },
          "metadata": {},
          "execution_count": 18
        }
      ],
      "source": [
        "X = train_data.drop(columns = ['label','id'])\n",
        "y = train_data['label']\n",
        "X_train, X_test, y_train, y_test = train_test_split( X, y, test_size=0.2, random_state=100)\n",
        "X_train.shape[0], X_test.shape[0]"
      ]
    },
    {
      "cell_type": "code",
      "source": [
        "pip install imblearn"
      ],
      "metadata": {
        "colab": {
          "base_uri": "https://localhost:8080/"
        },
        "id": "55kSQn-ynWAc",
        "outputId": "1418dc07-4dd5-4158-e563-17fbc61ae612"
      },
      "execution_count": null,
      "outputs": [
        {
          "output_type": "stream",
          "name": "stdout",
          "text": [
            "Looking in indexes: https://pypi.org/simple, https://us-python.pkg.dev/colab-wheels/public/simple/\n",
            "Requirement already satisfied: imblearn in /usr/local/lib/python3.7/dist-packages (0.0)\n",
            "Requirement already satisfied: imbalanced-learn in /usr/local/lib/python3.7/dist-packages (from imblearn) (0.8.1)\n",
            "Requirement already satisfied: scipy>=0.19.1 in /usr/local/lib/python3.7/dist-packages (from imbalanced-learn->imblearn) (1.7.3)\n",
            "Requirement already satisfied: numpy>=1.13.3 in /usr/local/lib/python3.7/dist-packages (from imbalanced-learn->imblearn) (1.21.6)\n",
            "Requirement already satisfied: joblib>=0.11 in /usr/local/lib/python3.7/dist-packages (from imbalanced-learn->imblearn) (1.1.0)\n",
            "Requirement already satisfied: scikit-learn>=0.24 in /usr/local/lib/python3.7/dist-packages (from imbalanced-learn->imblearn) (1.0.2)\n",
            "Requirement already satisfied: threadpoolctl>=2.0.0 in /usr/local/lib/python3.7/dist-packages (from scikit-learn>=0.24->imbalanced-learn->imblearn) (3.1.0)\n"
          ]
        }
      ]
    },
    {
      "cell_type": "code",
      "source": [
        "from imblearn.over_sampling import SMOTE\n",
        "smote = SMOTE()"
      ],
      "metadata": {
        "id": "DBjiEbxFnTDl"
      },
      "execution_count": null,
      "outputs": []
    },
    {
      "cell_type": "code",
      "source": [
        "X_train_smote, y_train_smote = smote.fit_resample(X_train.astype('float'),y_train)"
      ],
      "metadata": {
        "id": "AYMhp4tKnZL2"
      },
      "execution_count": null,
      "outputs": []
    },
    {
      "cell_type": "code",
      "source": [
        "from collections import Counter\n",
        "print(\"Before SMOTE :\" , Counter(y_train))\n",
        "print(\"After SMOTE :\" , Counter(y_train_smote))"
      ],
      "metadata": {
        "colab": {
          "base_uri": "https://localhost:8080/"
        },
        "id": "oc18-PXnncBL",
        "outputId": "91bdc2e3-1a5a-46b6-c5b4-56641ebca0b7"
      },
      "execution_count": null,
      "outputs": [
        {
          "output_type": "stream",
          "name": "stdout",
          "text": [
            "Before SMOTE : Counter({0: 5697621, 1: 49522})\n",
            "After SMOTE : Counter({0: 5697621, 1: 5697621})\n"
          ]
        }
      ]
    },
    {
      "cell_type": "code",
      "source": [
        "from sklearn.neighbors import KNeighborsClassifier\n",
        "model = KNeighborsClassifier()\n",
        "model.fit(X_train,y_train)\n",
        "y_predict = model.predict(X_test)"
      ],
      "metadata": {
        "id": "JPGb1atOoFbM"
      },
      "execution_count": null,
      "outputs": []
    },
    {
      "cell_type": "code",
      "source": [
        "model.fit(X_train_smote,y_train_smote)\n",
        "y_predict = model.predict(X_test)\n",
        "print(accuracy_score(y_test,y_predict))\n",
        "pd.crosstab(y_test,y_predict)"
      ],
      "metadata": {
        "colab": {
          "base_uri": "https://localhost:8080/",
          "height": 161
        },
        "id": "4FOvaeqFncm0",
        "outputId": "cc8a1d85-f084-49e8-f457-782365e5d098"
      },
      "execution_count": null,
      "outputs": [
        {
          "output_type": "stream",
          "name": "stdout",
          "text": [
            "0.8802507819536104\n"
          ]
        },
        {
          "output_type": "execute_result",
          "data": {
            "text/plain": [
              "col_0        0       1\n",
              "label                 \n",
              "0      1259611  164851\n",
              "1         7203    5121"
            ],
            "text/html": [
              "\n",
              "  <div id=\"df-880ef9d7-577b-4d30-8ba4-2ce060dd62f0\">\n",
              "    <div class=\"colab-df-container\">\n",
              "      <div>\n",
              "<style scoped>\n",
              "    .dataframe tbody tr th:only-of-type {\n",
              "        vertical-align: middle;\n",
              "    }\n",
              "\n",
              "    .dataframe tbody tr th {\n",
              "        vertical-align: top;\n",
              "    }\n",
              "\n",
              "    .dataframe thead th {\n",
              "        text-align: right;\n",
              "    }\n",
              "</style>\n",
              "<table border=\"1\" class=\"dataframe\">\n",
              "  <thead>\n",
              "    <tr style=\"text-align: right;\">\n",
              "      <th>col_0</th>\n",
              "      <th>0</th>\n",
              "      <th>1</th>\n",
              "    </tr>\n",
              "    <tr>\n",
              "      <th>label</th>\n",
              "      <th></th>\n",
              "      <th></th>\n",
              "    </tr>\n",
              "  </thead>\n",
              "  <tbody>\n",
              "    <tr>\n",
              "      <th>0</th>\n",
              "      <td>1259611</td>\n",
              "      <td>164851</td>\n",
              "    </tr>\n",
              "    <tr>\n",
              "      <th>1</th>\n",
              "      <td>7203</td>\n",
              "      <td>5121</td>\n",
              "    </tr>\n",
              "  </tbody>\n",
              "</table>\n",
              "</div>\n",
              "      <button class=\"colab-df-convert\" onclick=\"convertToInteractive('df-880ef9d7-577b-4d30-8ba4-2ce060dd62f0')\"\n",
              "              title=\"Convert this dataframe to an interactive table.\"\n",
              "              style=\"display:none;\">\n",
              "        \n",
              "  <svg xmlns=\"http://www.w3.org/2000/svg\" height=\"24px\"viewBox=\"0 0 24 24\"\n",
              "       width=\"24px\">\n",
              "    <path d=\"M0 0h24v24H0V0z\" fill=\"none\"/>\n",
              "    <path d=\"M18.56 5.44l.94 2.06.94-2.06 2.06-.94-2.06-.94-.94-2.06-.94 2.06-2.06.94zm-11 1L8.5 8.5l.94-2.06 2.06-.94-2.06-.94L8.5 2.5l-.94 2.06-2.06.94zm10 10l.94 2.06.94-2.06 2.06-.94-2.06-.94-.94-2.06-.94 2.06-2.06.94z\"/><path d=\"M17.41 7.96l-1.37-1.37c-.4-.4-.92-.59-1.43-.59-.52 0-1.04.2-1.43.59L10.3 9.45l-7.72 7.72c-.78.78-.78 2.05 0 2.83L4 21.41c.39.39.9.59 1.41.59.51 0 1.02-.2 1.41-.59l7.78-7.78 2.81-2.81c.8-.78.8-2.07 0-2.86zM5.41 20L4 18.59l7.72-7.72 1.47 1.35L5.41 20z\"/>\n",
              "  </svg>\n",
              "      </button>\n",
              "      \n",
              "  <style>\n",
              "    .colab-df-container {\n",
              "      display:flex;\n",
              "      flex-wrap:wrap;\n",
              "      gap: 12px;\n",
              "    }\n",
              "\n",
              "    .colab-df-convert {\n",
              "      background-color: #E8F0FE;\n",
              "      border: none;\n",
              "      border-radius: 50%;\n",
              "      cursor: pointer;\n",
              "      display: none;\n",
              "      fill: #1967D2;\n",
              "      height: 32px;\n",
              "      padding: 0 0 0 0;\n",
              "      width: 32px;\n",
              "    }\n",
              "\n",
              "    .colab-df-convert:hover {\n",
              "      background-color: #E2EBFA;\n",
              "      box-shadow: 0px 1px 2px rgba(60, 64, 67, 0.3), 0px 1px 3px 1px rgba(60, 64, 67, 0.15);\n",
              "      fill: #174EA6;\n",
              "    }\n",
              "\n",
              "    [theme=dark] .colab-df-convert {\n",
              "      background-color: #3B4455;\n",
              "      fill: #D2E3FC;\n",
              "    }\n",
              "\n",
              "    [theme=dark] .colab-df-convert:hover {\n",
              "      background-color: #434B5C;\n",
              "      box-shadow: 0px 1px 3px 1px rgba(0, 0, 0, 0.15);\n",
              "      filter: drop-shadow(0px 1px 2px rgba(0, 0, 0, 0.3));\n",
              "      fill: #FFFFFF;\n",
              "    }\n",
              "  </style>\n",
              "\n",
              "      <script>\n",
              "        const buttonEl =\n",
              "          document.querySelector('#df-880ef9d7-577b-4d30-8ba4-2ce060dd62f0 button.colab-df-convert');\n",
              "        buttonEl.style.display =\n",
              "          google.colab.kernel.accessAllowed ? 'block' : 'none';\n",
              "\n",
              "        async function convertToInteractive(key) {\n",
              "          const element = document.querySelector('#df-880ef9d7-577b-4d30-8ba4-2ce060dd62f0');\n",
              "          const dataTable =\n",
              "            await google.colab.kernel.invokeFunction('convertToInteractive',\n",
              "                                                     [key], {});\n",
              "          if (!dataTable) return;\n",
              "\n",
              "          const docLinkHtml = 'Like what you see? Visit the ' +\n",
              "            '<a target=\"_blank\" href=https://colab.research.google.com/notebooks/data_table.ipynb>data table notebook</a>'\n",
              "            + ' to learn more about interactive tables.';\n",
              "          element.innerHTML = '';\n",
              "          dataTable['output_type'] = 'display_data';\n",
              "          await google.colab.output.renderOutput(dataTable, element);\n",
              "          const docLink = document.createElement('div');\n",
              "          docLink.innerHTML = docLinkHtml;\n",
              "          element.appendChild(docLink);\n",
              "        }\n",
              "      </script>\n",
              "    </div>\n",
              "  </div>\n",
              "  "
            ]
          },
          "metadata": {},
          "execution_count": 30
        }
      ]
    },
    {
      "cell_type": "code",
      "source": [
        "# Evaluation Metrics\n",
        "print('Accuracy score : ',accuracy_score(y_test, y_predict))\n",
        "print('Recall score : ',recall_score(y_test, y_predict))\n",
        "print('Precision score : ',precision_score(y_test, y_predict))\n",
        "print('F1 score : ',f1_score(y_test, y_predict))"
      ],
      "metadata": {
        "colab": {
          "base_uri": "https://localhost:8080/"
        },
        "id": "qRmc9P9RolkP",
        "outputId": "ccb7d210-f6b1-41ef-cd76-5504f82bc9b7"
      },
      "execution_count": null,
      "outputs": [
        {
          "output_type": "stream",
          "name": "stdout",
          "text": [
            "Accuracy score :  0.8802507819536104\n",
            "Recall score :  0.41553067185978576\n",
            "Precision score :  0.030128491751582612\n",
            "F1 score :  0.05618335015579058\n"
          ]
        }
      ]
    },
    {
      "cell_type": "code",
      "execution_count": null,
      "metadata": {
        "id": "P_eQo0_4mpSX"
      },
      "outputs": [],
      "source": [
        "rf = RandomForestClassifier(bootstrap=True, ccp_alpha=0.0, class_weight=None,\n",
        "                       criterion='gini', max_depth=7, max_features='sqrt',\n",
        "                       max_leaf_nodes=None, max_samples=None,\n",
        "                       min_impurity_decrease=0.0, \n",
        "                       min_samples_leaf=1, min_samples_split=6,\n",
        "                       min_weight_fraction_leaf=0.0, n_estimators=10, n_jobs=-1,\n",
        "                       oob_score=False, random_state=None, verbose=0,\n",
        "                       warm_start=False)"
      ]
    },
    {
      "cell_type": "code",
      "execution_count": null,
      "metadata": {
        "colab": {
          "base_uri": "https://localhost:8080/"
        },
        "id": "Ee04A78SmpSY",
        "outputId": "a1ce1d72-7624-4a1c-d3b2-83f10f459c09"
      },
      "outputs": [
        {
          "output_type": "execute_result",
          "data": {
            "text/plain": [
              "RandomForestClassifier(max_depth=7, max_features='sqrt', min_samples_split=6,\n",
              "                       n_estimators=10, n_jobs=-1)"
            ]
          },
          "metadata": {},
          "execution_count": 33
        }
      ],
      "source": [
        "rf.fit(X_train_smote,y_train_smote)"
      ]
    },
    {
      "cell_type": "code",
      "execution_count": null,
      "metadata": {
        "id": "WCnszS-6mpSZ"
      },
      "outputs": [],
      "source": [
        "y_pred_rf = rf.predict(X_test)"
      ]
    },
    {
      "cell_type": "code",
      "execution_count": null,
      "metadata": {
        "colab": {
          "base_uri": "https://localhost:8080/",
          "height": 258
        },
        "id": "Gg7Y7dunmpSa",
        "outputId": "6ac0fb65-d5a4-4088-a75d-f6c73748bb14"
      },
      "outputs": [
        {
          "output_type": "execute_result",
          "data": {
            "text/plain": [
              "Text(24.0, 0.5, 'Predicted Values')"
            ]
          },
          "metadata": {},
          "execution_count": 35
        },
        {
          "output_type": "display_data",
          "data": {
            "text/plain": [
              "<Figure size 360x216 with 2 Axes>"
            ],
            "image/png": "[encoded data removed]"
          },
          "metadata": {
            "needs_background": "light"
          }
        }
      ],
      "source": [
        "#confusion matrix\n",
        "tn, fp , fn, tp = confusion_matrix(y_test, y_pred_rf).ravel()\n",
        "\n",
        "plt.figure(figsize = (5,3)) \n",
        "sns.heatmap(np.array([tp, fp , fn, tn]).reshape(2,2),xticklabels = [1,0], yticklabels = [1,0], annot = True,cmap=\"YlGnBu\")\n",
        "plt.title('Confusion Matrix')\n",
        "plt.xlabel('Actual Values')\n",
        "plt.ylabel('Predicted Values')"
      ]
    },
    {
      "cell_type": "code",
      "execution_count": null,
      "metadata": {
        "colab": {
          "base_uri": "https://localhost:8080/"
        },
        "id": "OzLfpBEempSa",
        "outputId": "9647235c-0c44-4233-b878-8d775f1c5c7f"
      },
      "outputs": [
        {
          "output_type": "stream",
          "name": "stdout",
          "text": [
            "Accuracy score :  0.9343806245328115\n",
            "Recall score :  0.24626744563453423\n",
            "Precision score :  0.0344780578686085\n",
            "F1 score :  0.06048768821436756\n"
          ]
        }
      ],
      "source": [
        "# Evaluation Metrics\n",
        "print('Accuracy score : ',accuracy_score(y_test, y_pred_rf))\n",
        "print('Recall score : ',recall_score(y_test, y_pred_rf))\n",
        "print('Precision score : ',precision_score(y_test, y_pred_rf))\n",
        "print('F1 score : ',f1_score(y_test, y_pred_rf))"
      ]
    },
    {
      "cell_type": "code",
      "execution_count": null,
      "metadata": {
        "id": "nrZtxPQVmpSb",
        "outputId": "47463f86-175b-4afd-b1f6-e97ba08eb216"
      },
      "outputs": [
        {
          "name": "stdout",
          "output_type": "stream",
          "text": [
            "Collecting imblearnNote: you may need to restart the kernel to use updated packages.\n",
            "\n",
            "  Downloading imblearn-0.0-py2.py3-none-any.whl (1.9 kB)\n",
            "Collecting imbalanced-learn\n",
            "  Downloading imbalanced_learn-0.9.1-py3-none-any.whl (199 kB)\n",
            "     -------------------------------------- 199.3/199.3 kB 1.7 MB/s eta 0:00:00\n",
            "Requirement already satisfied: scipy>=1.3.2 in c:\\users\\ronny\\appdata\\local\\programs\\python\\python39\\lib\\site-packages (from imbalanced-learn->imblearn) (1.9.0)\n",
            "Requirement already satisfied: scikit-learn>=1.1.0 in c:\\users\\ronny\\appdata\\local\\programs\\python\\python39\\lib\\site-packages (from imbalanced-learn->imblearn) (1.1.2)\n",
            "Requirement already satisfied: numpy>=1.17.3 in c:\\users\\ronny\\appdata\\local\\programs\\python\\python39\\lib\\site-packages (from imbalanced-learn->imblearn) (1.23.1)\n",
            "Requirement already satisfied: joblib>=1.0.0 in c:\\users\\ronny\\appdata\\local\\programs\\python\\python39\\lib\\site-packages (from imbalanced-learn->imblearn) (1.1.0)\n",
            "Requirement already satisfied: threadpoolctl>=2.0.0 in c:\\users\\ronny\\appdata\\local\\programs\\python\\python39\\lib\\site-packages (from imbalanced-learn->imblearn) (3.1.0)\n",
            "Installing collected packages: imbalanced-learn, imblearn\n",
            "Successfully installed imbalanced-learn-0.9.1 imblearn-0.0\n"
          ]
        }
      ],
      "source": [
        "test_data.drop(columns = ['PassengerId', 'Survived'], inplace = True)"
      ]
    },
    {
      "cell_type": "code",
      "source": [
        "test_pred = rf.predict(test_data)"
      ],
      "metadata": {
        "id": "jjX4VvJXy53f"
      },
      "execution_count": null,
      "outputs": []
    },
    {
      "cell_type": "code",
      "source": [
        "pd.DataFrame({\n",
        "    'PassengerId': test_df.loc[:,'PassengerId'],\n",
        "    'Survived' : test_pred\n",
        "}).to_csv('gender_submission_rf1.csv', index = False)"
      ],
      "metadata": {
        "id": "r_xDEPRGy89-"
      },
      "execution_count": null,
      "outputs": []
    },
    {
      "cell_type": "code",
      "execution_count": null,
      "metadata": {
        "id": "n13eZBkxmpSc"
      },
      "outputs": [],
      "source": []
    }
  ],
  "metadata": {
    "accelerator": "GPU",
    "colab": {
      "provenance": []
    },
    "kernelspec": {
      "display_name": "Python 3",
      "language": "python",
      "name": "python3"
    },
    "language_info": {
      "codemirror_mode": {
        "name": "ipython",
        "version": 3
      },
      "file_extension": ".py",
      "mimetype": "text/x-python",
      "name": "python",
      "nbconvert_exporter": "python",
      "pygments_lexer": "ipython3",
      "version": "3.9.4"
    }
  },
  "nbformat": 4,
  "nbformat_minor": 0
}