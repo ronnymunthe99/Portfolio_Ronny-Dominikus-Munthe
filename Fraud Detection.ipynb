{
  "cells": [
    {
      "cell_type": "markdown",
      "metadata": {
        "id": "uenfs6BqK8by"
      },
      "source": [
        "1. Data Preparation"
      ]
    },
    {
      "cell_type": "code",
      "execution_count": null,
      "metadata": {
        "colab": {
          "base_uri": "https://localhost:8080/"
        },
        "id": "k_tPYwPYr_Pv",
        "outputId": "99d35fb7-40b2-4498-cac6-642c4ef2f8c4"
      },
      "outputs": [
        {
          "output_type": "stream",
          "name": "stdout",
          "text": [
            "Mounted at /content/drive\n"
          ]
        }
      ],
      "source": [
        "from google.colab import drive\n",
        "drive.mount('/content/drive')"
      ]
    },
    {
      "cell_type": "code",
      "execution_count": null,
      "metadata": {
        "id": "roemrHVrK6Ea"
      },
      "outputs": [],
      "source": [
        "import pandas as pd\n",
        "import numpy as np\n",
        "import pandas as pd\n",
        "import matplotlib.pyplot as plt\n",
        "%matplotlib inline\n",
        "import seaborn as sns\n",
        "import scipy.stats as stat\n",
        "import pylab \n",
        "import pandas as pd\n",
        "import numpy as np\n",
        "from numpy.random import randint \n",
        "import seaborn as sns\n",
        "import matplotlib.pyplot as plt\n",
        "from sklearn.model_selection import train_test_split\n",
        "from sklearn.linear_model import LinearRegression\n",
        "from sklearn.linear_model import LogisticRegression\n",
        "from sklearn.svm import SVC, LinearSVC\n",
        "from sklearn.ensemble import RandomForestClassifier\n",
        "from sklearn.neighbors import KNeighborsClassifier\n",
        "from sklearn.naive_bayes import GaussianNB\n",
        "from sklearn.linear_model import Perceptron\n",
        "from sklearn.linear_model import SGDClassifier\n",
        "from sklearn.tree import DecisionTreeClassifier\n",
        "from sklearn import tree\n",
        "from sklearn.preprocessing import LabelEncoder\n",
        "%matplotlib inline\n",
        "\n",
        "train_data = pd.read_csv('/content/drive/MyDrive/HealthKathon/HealthKaton/sampling_healtkathon2022/sampling_healtkathon2022.csv')"
      ]
    },
    {
      "cell_type": "markdown",
      "source": [
        "1. Data Preparation"
      ],
      "metadata": {
        "id": "oqaRNNCTYcIu"
      }
    },
    {
      "cell_type": "code",
      "execution_count": null,
      "metadata": {
        "colab": {
          "base_uri": "https://localhost:8080/"
        },
        "id": "5H8RbFZELZSm",
        "outputId": "6d880f31-8cc6-4393-e671-28d9cc862a97"
      },
      "outputs": [
        {
          "output_type": "stream",
          "name": "stdout",
          "text": [
            "        id  id_peserta  dati2 typefaskes  usia jenkel  pisat  \\\n",
            "0   165666         486     17         KL    48      P    1.0   \n",
            "1  1010828         520     17          A    63      L    1.0   \n",
            "2   166042         523     17         KL    53      P    1.0   \n",
            "3   168937         549     17         KL    54      P    1.0   \n",
            "4  1005899         549     17          A    53      P    1.0   \n",
            "\n",
            "                  tgldatang                 tglpulang  jenispel  ...  \\\n",
            "0  2018-07-25T17:00:00.000Z  2018-07-25T17:00:00.000Z         2  ...   \n",
            "1  2019-05-27T17:00:00.000Z  2019-05-30T17:00:00.000Z         1  ...   \n",
            "2  2019-07-16T17:00:00.000Z  2019-07-16T17:00:00.000Z         2  ...   \n",
            "3  2019-10-17T17:00:00.000Z  2019-10-17T17:00:00.000Z         2  ...   \n",
            "4  2018-04-18T17:00:00.000Z  2018-04-18T17:00:00.000Z         2  ...   \n",
            "\n",
            "        biaya jenispulang         cbg  kelasrawat  kdsa  kdsp  kdsr  kdsi  \\\n",
            "0    184300.0         1.0    Q-5-42-0           3  None  None  None  None   \n",
            "1  10628400.0         1.0  D-4-13-III           1  None  None  None  None   \n",
            "2    187300.0         1.0    Q-5-44-0           3  None  None  None  None   \n",
            "3    187300.0         1.0    Q-5-44-0           3  None  None  None  None   \n",
            "4    381600.0         1.0    Q-5-44-0           3  None  None  None  None   \n",
            "\n",
            "   kdsd label  \n",
            "0  None     0  \n",
            "1  None     0  \n",
            "2  None     0  \n",
            "3  None     0  \n",
            "4  None     0  \n",
            "\n",
            "[5 rows x 22 columns]\n"
          ]
        }
      ],
      "source": [
        "print(train_data.head())"
      ]
    },
    {
      "cell_type": "code",
      "execution_count": null,
      "metadata": {
        "colab": {
          "base_uri": "https://localhost:8080/"
        },
        "id": "x52xmQzYMPD9",
        "outputId": "dcd3a179-363d-42d6-b2c5-cc7f08794a5b"
      },
      "outputs": [
        {
          "output_type": "stream",
          "name": "stdout",
          "text": [
            "Number of rows in training set: 11401882\n"
          ]
        }
      ],
      "source": [
        "print(\"Number of rows in training set: {}\".format(len(train_data)))"
      ]
    },
    {
      "cell_type": "code",
      "execution_count": null,
      "metadata": {
        "colab": {
          "base_uri": "https://localhost:8080/"
        },
        "id": "vAw4cb8-r2Mv",
        "outputId": "d5bef73f-1565-435f-984d-eb23fce6e9b6"
      },
      "outputs": [
        {
          "output_type": "stream",
          "name": "stdout",
          "text": [
            "<class 'pandas.core.frame.DataFrame'>\n",
            "RangeIndex: 11401882 entries, 0 to 11401881\n",
            "Data columns (total 22 columns):\n",
            " #   Column       Dtype  \n",
            "---  ------       -----  \n",
            " 0   id           int64  \n",
            " 1   id_peserta   int64  \n",
            " 2   dati2        int64  \n",
            " 3   typefaskes   object \n",
            " 4   usia         int64  \n",
            " 5   jenkel       object \n",
            " 6   pisat        float64\n",
            " 7   tgldatang    object \n",
            " 8   tglpulang    object \n",
            " 9   jenispel     int64  \n",
            " 10  politujuan   object \n",
            " 11  diagfktp     object \n",
            " 12  biaya        float64\n",
            " 13  jenispulang  float64\n",
            " 14  cbg          object \n",
            " 15  kelasrawat   int64  \n",
            " 16  kdsa         object \n",
            " 17  kdsp         object \n",
            " 18  kdsr         object \n",
            " 19  kdsi         object \n",
            " 20  kdsd         object \n",
            " 21  label        int64  \n",
            "dtypes: float64(3), int64(7), object(12)\n",
            "memory usage: 1.9+ GB\n"
          ]
        }
      ],
      "source": [
        "train_data.info()"
      ]
    },
    {
      "cell_type": "markdown",
      "source": [],
      "metadata": {
        "id": "M96FFxOBa2LK"
      }
    },
    {
      "cell_type": "code",
      "execution_count": null,
      "metadata": {
        "colab": {
          "base_uri": "https://localhost:8080/"
        },
        "id": "eqespXytr2Mx",
        "outputId": "df8814bf-94df-4627-d627-534c071ec5ce"
      },
      "outputs": [
        {
          "output_type": "execute_result",
          "data": {
            "text/plain": [
              "id                   0\n",
              "id_peserta           0\n",
              "dati2                0\n",
              "typefaskes           0\n",
              "usia                 0\n",
              "jenkel              49\n",
              "pisat              190\n",
              "tgldatang            0\n",
              "tglpulang            0\n",
              "jenispel             0\n",
              "politujuan     4041455\n",
              "diagfktp          2530\n",
              "biaya            57815\n",
              "jenispulang         39\n",
              "cbg                  0\n",
              "kelasrawat           0\n",
              "kdsa            198670\n",
              "kdsp            197007\n",
              "kdsr            198459\n",
              "kdsi            198463\n",
              "kdsd            195181\n",
              "label                0\n",
              "dtype: int64"
            ]
          },
          "metadata": {},
          "execution_count": 6
        }
      ],
      "source": [
        "train_data.isnull().sum()"
      ]
    },
    {
      "cell_type": "markdown",
      "source": [
        "2. Data cleansing"
      ],
      "metadata": {
        "id": "n58ORCaVYn6N"
      }
    },
    {
      "cell_type": "code",
      "execution_count": null,
      "metadata": {
        "id": "rh_W0yC_r2M7"
      },
      "outputs": [],
      "source": [
        "train_data = train_data.drop(['politujuan','tglpulang','tgldatang','id_peserta'], axis=1)"
      ]
    },
    {
      "cell_type": "code",
      "source": [
        "train_data['kdsa'] = train_data['kdsa'].fillna('None')\n",
        "train_data['kdsp'] = train_data['kdsp'].fillna('None')\n",
        "train_data['kdsr'] = train_data['kdsr'].fillna('None')\n",
        "train_data['kdsi'] = train_data['kdsi'].fillna('None')\n",
        "train_data['kdsd'] = train_data['kdsd'].fillna('None')"
      ],
      "metadata": {
        "id": "cPd4T_ZhPdf5"
      },
      "execution_count": null,
      "outputs": []
    },
    {
      "cell_type": "code",
      "source": [
        "train_data['jenkel'].value_counts()"
      ],
      "metadata": {
        "colab": {
          "base_uri": "https://localhost:8080/"
        },
        "id": "UKjSylUtPeyC",
        "outputId": "62eb7f9a-5905-48f2-9651-9ba74a313dc9"
      },
      "execution_count": null,
      "outputs": [
        {
          "output_type": "execute_result",
          "data": {
            "text/plain": [
              "P    6161677\n",
              "L    5240156\n",
              "Name: jenkel, dtype: int64"
            ]
          },
          "metadata": {},
          "execution_count": 9
        }
      ]
    },
    {
      "cell_type": "code",
      "source": [
        "train_data['jenkel'] = train_data['jenkel'].fillna('P')"
      ],
      "metadata": {
        "id": "bR8w_ceBPgpg"
      },
      "execution_count": null,
      "outputs": []
    },
    {
      "cell_type": "code",
      "source": [
        "train_data['pisat'].value_counts()"
      ],
      "metadata": {
        "colab": {
          "base_uri": "https://localhost:8080/"
        },
        "id": "wYmSiq_CPiRx",
        "outputId": "703e91cb-e814-4825-8b02-c2b90877e428"
      },
      "execution_count": null,
      "outputs": [
        {
          "output_type": "execute_result",
          "data": {
            "text/plain": [
              "1.0    4874164\n",
              "4.0    3350737\n",
              "3.0    2474862\n",
              "5.0     459397\n",
              "2.0     242532\n",
              "Name: pisat, dtype: int64"
            ]
          },
          "metadata": {},
          "execution_count": 11
        }
      ]
    },
    {
      "cell_type": "code",
      "source": [
        "train_data['pisat'] = train_data['pisat'].fillna(value=train_data['pisat'].median())"
      ],
      "metadata": {
        "id": "lcLpfSScPkWy"
      },
      "execution_count": null,
      "outputs": []
    },
    {
      "cell_type": "code",
      "source": [
        "train_data['diagfktp'].value_counts()"
      ],
      "metadata": {
        "colab": {
          "base_uri": "https://localhost:8080/"
        },
        "id": "UWIN80ZvPnKQ",
        "outputId": "b7539115-f202-48e9-b75b-412456a614c0"
      },
      "execution_count": null,
      "outputs": [
        {
          "output_type": "execute_result",
          "data": {
            "text/plain": [
              "Z09.8    407556\n",
              "R50.9    346635\n",
              "P03.4    207769\n",
              "Z03.8    201981\n",
              "K30      183918\n",
              "          ...  \n",
              "D165          1\n",
              "Q436          1\n",
              "m05.9         1\n",
              "D83.1         1\n",
              "E73.1         1\n",
              "Name: diagfktp, Length: 17012, dtype: int64"
            ]
          },
          "metadata": {},
          "execution_count": 13
        }
      ]
    },
    {
      "cell_type": "code",
      "source": [
        "train_data['diagfktp'] = train_data['diagfktp'].fillna('ZO9.8')"
      ],
      "metadata": {
        "id": "I7mmBxgKPovE"
      },
      "execution_count": null,
      "outputs": []
    },
    {
      "cell_type": "code",
      "source": [
        "train_data['biaya'].value_counts()"
      ],
      "metadata": {
        "colab": {
          "base_uri": "https://localhost:8080/"
        },
        "id": "5Ez5aLLlPqWJ",
        "outputId": "1bfd8bc6-a80a-4224-9cfd-9de2f564b488"
      },
      "execution_count": null,
      "outputs": [
        {
          "output_type": "execute_result",
          "data": {
            "text/plain": [
              "190400.0      551050\n",
              "183300.0      234613\n",
              "191800.0      208013\n",
              "185000.0      183641\n",
              "183500.0      183471\n",
              "               ...  \n",
              "60941100.0         1\n",
              "6912000.0          1\n",
              "3278520.0          1\n",
              "6847400.0          1\n",
              "24788800.0         1\n",
              "Name: biaya, Length: 57854, dtype: int64"
            ]
          },
          "metadata": {},
          "execution_count": 15
        }
      ]
    },
    {
      "cell_type": "code",
      "source": [
        "train_data['biaya'] = train_data['biaya'].fillna(value=train_data['biaya'].mean())"
      ],
      "metadata": {
        "id": "nQ0WCIWXPsX5"
      },
      "execution_count": null,
      "outputs": []
    },
    {
      "cell_type": "code",
      "source": [
        "train_data['jenispulang'].value_counts()"
      ],
      "metadata": {
        "colab": {
          "base_uri": "https://localhost:8080/"
        },
        "id": "QpeTubC3PwVJ",
        "outputId": "5a99b44d-4f68-4e50-ec91-f929f94e3746"
      },
      "execution_count": null,
      "outputs": [
        {
          "output_type": "execute_result",
          "data": {
            "text/plain": [
              "1.0    10929593\n",
              "2.0      185714\n",
              "4.0      146116\n",
              "5.0       86835\n",
              "3.0       53585\n",
              "Name: jenispulang, dtype: int64"
            ]
          },
          "metadata": {},
          "execution_count": 17
        }
      ]
    },
    {
      "cell_type": "code",
      "source": [
        "train_data['jenispulang'] = train_data['jenispulang'].fillna(value=train_data['jenispulang'].median())"
      ],
      "metadata": {
        "id": "-nSy1DbcPxrB"
      },
      "execution_count": null,
      "outputs": []
    },
    {
      "cell_type": "code",
      "source": [
        "train_data.isnull().sum()"
      ],
      "metadata": {
        "colab": {
          "base_uri": "https://localhost:8080/"
        },
        "id": "MQOGqVQHPzOp",
        "outputId": "8d65a94b-a360-49ed-df3b-5f5207d8c3c8"
      },
      "execution_count": null,
      "outputs": [
        {
          "output_type": "execute_result",
          "data": {
            "text/plain": [
              "id             0\n",
              "dati2          0\n",
              "typefaskes     0\n",
              "usia           0\n",
              "jenkel         0\n",
              "pisat          0\n",
              "jenispel       0\n",
              "diagfktp       0\n",
              "biaya          0\n",
              "jenispulang    0\n",
              "cbg            0\n",
              "kelasrawat     0\n",
              "kdsa           0\n",
              "kdsp           0\n",
              "kdsr           0\n",
              "kdsi           0\n",
              "kdsd           0\n",
              "label          0\n",
              "dtype: int64"
            ]
          },
          "metadata": {},
          "execution_count": 19
        }
      ]
    },
    {
      "cell_type": "markdown",
      "source": [
        "3. Exploratory Data Analysis(EDA)"
      ],
      "metadata": {
        "id": "vBSPTHBUZPfW"
      }
    },
    {
      "cell_type": "code",
      "source": [
        "# Pandas plotting with matplotlib\n",
        "train_data['label'].value_counts().plot.pie(explode=[0.1,0.1],autopct='%1.1f%%',shadow=True,figsize=(10,8))\n",
        "plt.show()"
      ],
      "metadata": {
        "colab": {
          "base_uri": "https://localhost:8080/",
          "height": 466
        },
        "id": "pmDnkNe5Y982",
        "outputId": "cef9f20b-fcc3-48f6-950d-e1f7b0423f3e"
      },
      "execution_count": null,
      "outputs": [
        {
          "output_type": "display_data",
          "data": {
            "text/plain": [
              "<Figure size 720x576 with 1 Axes>"
            ],
            "image/png": "[encoded data removed]"
          },
          "metadata": {}
        }
      ]
    },
    {
      "cell_type": "markdown",
      "source": [
        "4. Feature Engineering"
      ],
      "metadata": {
        "id": "61iLGdFOZgYG"
      }
    },
    {
      "cell_type": "code",
      "execution_count": null,
      "metadata": {
        "id": "cQxIwi_Ar2M7"
      },
      "outputs": [],
      "source": [
        "from sklearn.preprocessing import LabelEncoder\n",
        "le=LabelEncoder\n",
        "typefaskes_le=LabelEncoder()\n",
        "train_data['typefaskes']=typefaskes_le.fit_transform(train_data['typefaskes'])\n",
        "jenkel_le=LabelEncoder()\n",
        "train_data['jenkel']=jenkel_le.fit_transform(train_data['jenkel'])\n",
        "diagfktp_le=LabelEncoder()\n",
        "train_data['diagfktp']=diagfktp_le.fit_transform(train_data['diagfktp'])\n",
        "cbg_le=LabelEncoder()\n",
        "train_data['cbg']=cbg_le.fit_transform(train_data['cbg'])\n",
        "kdsa_le=LabelEncoder()\n",
        "train_data['kdsa']=kdsa_le.fit_transform(train_data['kdsa'])\n",
        "kdsp_le=LabelEncoder()\n",
        "train_data['kdsp']=kdsp_le.fit_transform(train_data['kdsp'])\n",
        "kdsr_le=LabelEncoder()\n",
        "train_data['kdsr']=kdsr_le.fit_transform(train_data['kdsr'])\n",
        "kdsi_le=LabelEncoder()\n",
        "train_data['kdsi']=kdsi_le.fit_transform(train_data['kdsi'])\n",
        "kdsd_le=LabelEncoder()\n",
        "train_data['kdsd']=kdsd_le.fit_transform(train_data['kdsd'])"
      ]
    },
    {
      "cell_type": "code",
      "execution_count": null,
      "metadata": {
        "colab": {
          "base_uri": "https://localhost:8080/"
        },
        "id": "pK62k9v1r2M7",
        "outputId": "54324f22-ca02-4a26-fa89-3733d7a42b57"
      },
      "outputs": [
        {
          "output_type": "execute_result",
          "data": {
            "text/plain": [
              "(11401882, 18)"
            ]
          },
          "metadata": {},
          "execution_count": 22
        }
      ],
      "source": [
        "train_data.shape"
      ]
    },
    {
      "cell_type": "code",
      "execution_count": null,
      "metadata": {
        "colab": {
          "base_uri": "https://localhost:8080/"
        },
        "id": "vkqemjUWr2M8",
        "outputId": "be94afd1-2eac-42dd-86a5-dd8c9008b48f"
      },
      "outputs": [
        {
          "output_type": "execute_result",
          "data": {
            "text/plain": [
              "id             11401868\n",
              "dati2               489\n",
              "typefaskes           26\n",
              "usia                111\n",
              "jenkel                2\n",
              "pisat                 5\n",
              "jenispel              2\n",
              "diagfktp          17013\n",
              "biaya             57855\n",
              "jenispulang           5\n",
              "cbg                1034\n",
              "kelasrawat            3\n",
              "kdsa                 36\n",
              "kdsp                 13\n",
              "kdsr                  6\n",
              "kdsi                  4\n",
              "kdsd                 12\n",
              "label                 2\n",
              "dtype: int64"
            ]
          },
          "metadata": {},
          "execution_count": 23
        }
      ],
      "source": [
        "train_data.nunique()"
      ]
    },
    {
      "cell_type": "code",
      "execution_count": null,
      "metadata": {
        "colab": {
          "base_uri": "https://localhost:8080/"
        },
        "id": "oeX4pvDNOLAV",
        "outputId": "048384cb-e8c8-47c2-f9f2-8dec8dfd699b"
      },
      "outputs": [
        {
          "output_type": "execute_result",
          "data": {
            "text/plain": [
              "array(['A', 'B', 'C', 'D', 'GD', 'HD', 'I1', 'I2', 'I3', 'I4', 'KB', 'KC',\n",
              "       'KG', 'KI', 'KJ', 'KK', 'KL', 'KM', 'KO', 'KP', 'KT', 'KU', 'SA',\n",
              "       'SB', 'SC', 'SD'], dtype=object)"
            ]
          },
          "metadata": {},
          "execution_count": 24
        }
      ],
      "source": [
        "typefaskes_le.classes_"
      ]
    },
    {
      "cell_type": "code",
      "execution_count": null,
      "metadata": {
        "colab": {
          "base_uri": "https://localhost:8080/"
        },
        "id": "hPLbARwnr2M8",
        "outputId": "7d108e15-c142-49d0-cc57-74f3165fb4f7"
      },
      "outputs": [
        {
          "output_type": "execute_result",
          "data": {
            "text/plain": [
              "array(['None', 'SA-4-14-I', 'SA-4-14-II', 'SA-4-14-X', 'SF-4-10-I',\n",
              "       'SF-4-10-II', 'SF-4-10-III', 'SF-4-10-IV', 'SF-4-10-X',\n",
              "       'SF-4-11-I', 'SF-4-11-II', 'SF-4-11-III', 'SF-4-11-IV',\n",
              "       'SF-4-12-II', 'SF-4-13-I', 'SF-4-13-II', 'SF-4-13-III',\n",
              "       'SF-4-13-IV', 'SF-4-13-X', 'SF-4-15-I', 'SF-4-15-II',\n",
              "       'SF-4-15-III', 'SF-4-15-IV', 'SF-4-15-X', 'SF-4-16-I',\n",
              "       'SF-4-16-II', 'SF-4-16-III', 'SF-4-16-IV', 'SF-4-16-X',\n",
              "       'SF-4-18-I', 'SF-4-19-I', 'SF-4-19-II', 'SF-4-19-III',\n",
              "       'SF-4-19-IV', 'ST-1-10-III', 'ST-4-11-II'], dtype=object)"
            ]
          },
          "metadata": {},
          "execution_count": 25
        }
      ],
      "source": [
        "kdsa_le.classes_"
      ]
    },
    {
      "cell_type": "code",
      "execution_count": null,
      "metadata": {
        "colab": {
          "base_uri": "https://localhost:8080/"
        },
        "id": "5Yqtuy31r2M8",
        "outputId": "02544fa5-d20d-42f2-c56e-6ddb9676a362"
      },
      "outputs": [
        {
          "output_type": "stream",
          "name": "stdout",
          "text": [
            "<class 'pandas.core.frame.DataFrame'>\n",
            "RangeIndex: 11401882 entries, 0 to 11401881\n",
            "Data columns (total 18 columns):\n",
            " #   Column       Dtype  \n",
            "---  ------       -----  \n",
            " 0   id           int64  \n",
            " 1   dati2        int64  \n",
            " 2   typefaskes   int64  \n",
            " 3   usia         int64  \n",
            " 4   jenkel       int64  \n",
            " 5   pisat        float64\n",
            " 6   jenispel     int64  \n",
            " 7   diagfktp     int64  \n",
            " 8   biaya        float64\n",
            " 9   jenispulang  float64\n",
            " 10  cbg          int64  \n",
            " 11  kelasrawat   int64  \n",
            " 12  kdsa         int64  \n",
            " 13  kdsp         int64  \n",
            " 14  kdsr         int64  \n",
            " 15  kdsi         int64  \n",
            " 16  kdsd         int64  \n",
            " 17  label        int64  \n",
            "dtypes: float64(3), int64(15)\n",
            "memory usage: 1.5 GB\n"
          ]
        }
      ],
      "source": [
        "train_data.info()"
      ]
    },
    {
      "cell_type": "code",
      "execution_count": null,
      "metadata": {
        "colab": {
          "base_uri": "https://localhost:8080/",
          "height": 614
        },
        "id": "9-2-FU6xr2M9",
        "outputId": "f4991119-701b-4059-dedb-4a10c433933c"
      },
      "outputs": [
        {
          "output_type": "execute_result",
          "data": {
            "text/plain": [
              "                   id     dati2  typefaskes      usia    jenkel     pisat  \\\n",
              "id           1.000000  0.527575   -0.435517  0.011832 -0.029845  0.003255   \n",
              "dati2        0.527575  1.000000   -0.069073  0.000736  0.001284  0.000734   \n",
              "typefaskes  -0.435517 -0.069073    1.000000  0.023883  0.029492 -0.017252   \n",
              "usia         0.011832  0.000736    0.023883  1.000000  0.044876 -0.570096   \n",
              "jenkel      -0.029845  0.001284    0.029492  0.044876  1.000000  0.163890   \n",
              "pisat        0.003255  0.000734   -0.017252 -0.570096  0.163890  1.000000   \n",
              "jenispel    -0.038642  0.008881    0.028779  0.113925 -0.020707 -0.091605   \n",
              "diagfktp     0.001059  0.018917   -0.020574 -0.144909  0.007303  0.075994   \n",
              "biaya        0.057262 -0.030162   -0.068315 -0.043988 -0.023186  0.032467   \n",
              "jenispulang  0.037123 -0.006446   -0.058802  0.029344 -0.018430 -0.010620   \n",
              "cbg         -0.054834  0.017375    0.038611 -0.051738  0.066883  0.011325   \n",
              "kelasrawat  -0.003628 -0.003250   -0.043213  0.011967 -0.009578  0.015171   \n",
              "kdsa         0.016594 -0.003928    0.002698  0.000477 -0.016126  0.005053   \n",
              "kdsp        -0.020629 -0.002052    0.026061  0.071857 -0.004238 -0.034609   \n",
              "kdsr         0.005029 -0.004646   -0.004634  0.026820  0.007305 -0.007525   \n",
              "kdsi         0.003371  0.003329   -0.009404 -0.013192 -0.000662  0.010283   \n",
              "kdsd        -0.033926  0.015144    0.057434  0.095534  0.041641 -0.046337   \n",
              "label        0.002648  0.007179   -0.010546 -0.011001 -0.003613  0.007745   \n",
              "\n",
              "             jenispel  diagfktp     biaya  jenispulang       cbg  kelasrawat  \\\n",
              "id          -0.038642  0.001059  0.057262     0.037123 -0.054834   -0.003628   \n",
              "dati2        0.008881  0.018917 -0.030162    -0.006446  0.017375   -0.003250   \n",
              "typefaskes   0.028779 -0.020574 -0.068315    -0.058802  0.038611   -0.043213   \n",
              "usia         0.113925 -0.144909 -0.043988     0.029344 -0.051738    0.011967   \n",
              "jenkel      -0.020707  0.007303 -0.023186    -0.018430  0.066883   -0.009578   \n",
              "pisat       -0.091605  0.075994  0.032467    -0.010620  0.011325    0.015171   \n",
              "jenispel     1.000000 -0.098185 -0.446023    -0.079056  0.413078    0.527171   \n",
              "diagfktp    -0.098185  1.000000  0.047878     0.018864  0.160578   -0.049087   \n",
              "biaya       -0.446023  0.047878  1.000000     0.129667 -0.213556   -0.316611   \n",
              "jenispulang -0.079056  0.018864  0.129667     1.000000 -0.064960   -0.025196   \n",
              "cbg          0.413078  0.160578 -0.213556    -0.064960  1.000000    0.230120   \n",
              "kelasrawat   0.527171 -0.049087 -0.316611    -0.025196  0.230120    1.000000   \n",
              "kdsa        -0.038210 -0.026607  0.051337    -0.003452 -0.051413    0.003363   \n",
              "kdsp         0.035052 -0.036515  0.132897    -0.007800 -0.098276    0.014501   \n",
              "kdsr        -0.032212  0.019248  0.194122     0.001615 -0.007427   -0.034568   \n",
              "kdsi        -0.021354 -0.003978 -0.004965    -0.000096 -0.037500   -0.011258   \n",
              "kdsd         0.005421  0.090302 -0.101513     0.004123  0.033155   -0.003735   \n",
              "label        0.003210  0.006235  0.003317    -0.002402 -0.008125   -0.004448   \n",
              "\n",
              "                 kdsa      kdsp      kdsr      kdsi      kdsd     label  \n",
              "id           0.016594 -0.020629  0.005029  0.003371 -0.033926  0.002648  \n",
              "dati2       -0.003928 -0.002052 -0.004646  0.003329  0.015144  0.007179  \n",
              "typefaskes   0.002698  0.026061 -0.004634 -0.009404  0.057434 -0.010546  \n",
              "usia         0.000477  0.071857  0.026820 -0.013192  0.095534 -0.011001  \n",
              "jenkel      -0.016126 -0.004238  0.007305 -0.000662  0.041641 -0.003613  \n",
              "pisat        0.005053 -0.034609 -0.007525  0.010283 -0.046337  0.007745  \n",
              "jenispel    -0.038210  0.035052 -0.032212 -0.021354  0.005421  0.003210  \n",
              "diagfktp    -0.026607 -0.036515  0.019248 -0.003978  0.090302  0.006235  \n",
              "biaya        0.051337  0.132897  0.194122 -0.004965 -0.101513  0.003317  \n",
              "jenispulang -0.003452 -0.007800  0.001615 -0.000096  0.004123 -0.002402  \n",
              "cbg         -0.051413 -0.098276 -0.007427 -0.037500  0.033155 -0.008125  \n",
              "kelasrawat   0.003363  0.014501 -0.034568 -0.011258 -0.003735 -0.004448  \n",
              "kdsa         1.000000 -0.002100 -0.000676  0.000816  0.002844 -0.001588  \n",
              "kdsp        -0.002100  1.000000  0.029961  0.002137  0.007449  0.000616  \n",
              "kdsr        -0.000676  0.029961  1.000000  0.000688  0.002398 -0.001897  \n",
              "kdsi         0.000816  0.002137  0.000688  1.000000 -0.002895  0.000224  \n",
              "kdsd         0.002844  0.007449  0.002398 -0.002895  1.000000 -0.003636  \n",
              "label       -0.001588  0.000616 -0.001897  0.000224 -0.003636  1.000000  "
            ],
            "text/html": [
              "\n",
              "  <div id=\"df-fe63d09c-2db7-47e0-ac11-52e8309fe379\">\n",
              "    <div class=\"colab-df-container\">\n",
              "      <div>\n",
              "<style scoped>\n",
              "    .dataframe tbody tr th:only-of-type {\n",
              "        vertical-align: middle;\n",
              "    }\n",
              "\n",
              "    .dataframe tbody tr th {\n",
              "        vertical-align: top;\n",
              "    }\n",
              "\n",
              "    .dataframe thead th {\n",
              "        text-align: right;\n",
              "    }\n",
              "</style>\n",
              "<table border=\"1\" class=\"dataframe\">\n",
              "  <thead>\n",
              "    <tr style=\"text-align: right;\">\n",
              "      <th></th>\n",
              "      <th>id</th>\n",
              "      <th>dati2</th>\n",
              "      <th>typefaskes</th>\n",
              "      <th>usia</th>\n",
              "      <th>jenkel</th>\n",
              "      <th>pisat</th>\n",
              "      <th>jenispel</th>\n",
              "      <th>diagfktp</th>\n",
              "      <th>biaya</th>\n",
              "      <th>jenispulang</th>\n",
              "      <th>cbg</th>\n",
              "      <th>kelasrawat</th>\n",
              "      <th>kdsa</th>\n",
              "      <th>kdsp</th>\n",
              "      <th>kdsr</th>\n",
              "      <th>kdsi</th>\n",
              "      <th>kdsd</th>\n",
              "      <th>label</th>\n",
              "    </tr>\n",
              "  </thead>\n",
              "  <tbody>\n",
              "    <tr>\n",
              "      <th>id</th>\n",
              "      <td>1.000000</td>\n",
              "      <td>0.527575</td>\n",
              "      <td>-0.435517</td>\n",
              "      <td>0.011832</td>\n",
              "      <td>-0.029845</td>\n",
              "      <td>0.003255</td>\n",
              "      <td>-0.038642</td>\n",
              "      <td>0.001059</td>\n",
              "      <td>0.057262</td>\n",
              "      <td>0.037123</td>\n",
              "      <td>-0.054834</td>\n",
              "      <td>-0.003628</td>\n",
              "      <td>0.016594</td>\n",
              "      <td>-0.020629</td>\n",
              "      <td>0.005029</td>\n",
              "      <td>0.003371</td>\n",
              "      <td>-0.033926</td>\n",
              "      <td>0.002648</td>\n",
              "    </tr>\n",
              "    <tr>\n",
              "      <th>dati2</th>\n",
              "      <td>0.527575</td>\n",
              "      <td>1.000000</td>\n",
              "      <td>-0.069073</td>\n",
              "      <td>0.000736</td>\n",
              "      <td>0.001284</td>\n",
              "      <td>0.000734</td>\n",
              "      <td>0.008881</td>\n",
              "      <td>0.018917</td>\n",
              "      <td>-0.030162</td>\n",
              "      <td>-0.006446</td>\n",
              "      <td>0.017375</td>\n",
              "      <td>-0.003250</td>\n",
              "      <td>-0.003928</td>\n",
              "      <td>-0.002052</td>\n",
              "      <td>-0.004646</td>\n",
              "      <td>0.003329</td>\n",
              "      <td>0.015144</td>\n",
              "      <td>0.007179</td>\n",
              "    </tr>\n",
              "    <tr>\n",
              "      <th>typefaskes</th>\n",
              "      <td>-0.435517</td>\n",
              "      <td>-0.069073</td>\n",
              "      <td>1.000000</td>\n",
              "      <td>0.023883</td>\n",
              "      <td>0.029492</td>\n",
              "      <td>-0.017252</td>\n",
              "      <td>0.028779</td>\n",
              "      <td>-0.020574</td>\n",
              "      <td>-0.068315</td>\n",
              "      <td>-0.058802</td>\n",
              "      <td>0.038611</td>\n",
              "      <td>-0.043213</td>\n",
              "      <td>0.002698</td>\n",
              "      <td>0.026061</td>\n",
              "      <td>-0.004634</td>\n",
              "      <td>-0.009404</td>\n",
              "      <td>0.057434</td>\n",
              "      <td>-0.010546</td>\n",
              "    </tr>\n",
              "    <tr>\n",
              "      <th>usia</th>\n",
              "      <td>0.011832</td>\n",
              "      <td>0.000736</td>\n",
              "      <td>0.023883</td>\n",
              "      <td>1.000000</td>\n",
              "      <td>0.044876</td>\n",
              "      <td>-0.570096</td>\n",
              "      <td>0.113925</td>\n",
              "      <td>-0.144909</td>\n",
              "      <td>-0.043988</td>\n",
              "      <td>0.029344</td>\n",
              "      <td>-0.051738</td>\n",
              "      <td>0.011967</td>\n",
              "      <td>0.000477</td>\n",
              "      <td>0.071857</td>\n",
              "      <td>0.026820</td>\n",
              "      <td>-0.013192</td>\n",
              "      <td>0.095534</td>\n",
              "      <td>-0.011001</td>\n",
              "    </tr>\n",
              "    <tr>\n",
              "      <th>jenkel</th>\n",
              "      <td>-0.029845</td>\n",
              "      <td>0.001284</td>\n",
              "      <td>0.029492</td>\n",
              "      <td>0.044876</td>\n",
              "      <td>1.000000</td>\n",
              "      <td>0.163890</td>\n",
              "      <td>-0.020707</td>\n",
              "      <td>0.007303</td>\n",
              "      <td>-0.023186</td>\n",
              "      <td>-0.018430</td>\n",
              "      <td>0.066883</td>\n",
              "      <td>-0.009578</td>\n",
              "      <td>-0.016126</td>\n",
              "      <td>-0.004238</td>\n",
              "      <td>0.007305</td>\n",
              "      <td>-0.000662</td>\n",
              "      <td>0.041641</td>\n",
              "      <td>-0.003613</td>\n",
              "    </tr>\n",
              "    <tr>\n",
              "      <th>pisat</th>\n",
              "      <td>0.003255</td>\n",
              "      <td>0.000734</td>\n",
              "      <td>-0.017252</td>\n",
              "      <td>-0.570096</td>\n",
              "      <td>0.163890</td>\n",
              "      <td>1.000000</td>\n",
              "      <td>-0.091605</td>\n",
              "      <td>0.075994</td>\n",
              "      <td>0.032467</td>\n",
              "      <td>-0.010620</td>\n",
              "      <td>0.011325</td>\n",
              "      <td>0.015171</td>\n",
              "      <td>0.005053</td>\n",
              "      <td>-0.034609</td>\n",
              "      <td>-0.007525</td>\n",
              "      <td>0.010283</td>\n",
              "      <td>-0.046337</td>\n",
              "      <td>0.007745</td>\n",
              "    </tr>\n",
              "    <tr>\n",
              "      <th>jenispel</th>\n",
              "      <td>-0.038642</td>\n",
              "      <td>0.008881</td>\n",
              "      <td>0.028779</td>\n",
              "      <td>0.113925</td>\n",
              "      <td>-0.020707</td>\n",
              "      <td>-0.091605</td>\n",
              "      <td>1.000000</td>\n",
              "      <td>-0.098185</td>\n",
              "      <td>-0.446023</td>\n",
              "      <td>-0.079056</td>\n",
              "      <td>0.413078</td>\n",
              "      <td>0.527171</td>\n",
              "      <td>-0.038210</td>\n",
              "      <td>0.035052</td>\n",
              "      <td>-0.032212</td>\n",
              "      <td>-0.021354</td>\n",
              "      <td>0.005421</td>\n",
              "      <td>0.003210</td>\n",
              "    </tr>\n",
              "    <tr>\n",
              "      <th>diagfktp</th>\n",
              "      <td>0.001059</td>\n",
              "      <td>0.018917</td>\n",
              "      <td>-0.020574</td>\n",
              "      <td>-0.144909</td>\n",
              "      <td>0.007303</td>\n",
              "      <td>0.075994</td>\n",
              "      <td>-0.098185</td>\n",
              "      <td>1.000000</td>\n",
              "      <td>0.047878</td>\n",
              "      <td>0.018864</td>\n",
              "      <td>0.160578</td>\n",
              "      <td>-0.049087</td>\n",
              "      <td>-0.026607</td>\n",
              "      <td>-0.036515</td>\n",
              "      <td>0.019248</td>\n",
              "      <td>-0.003978</td>\n",
              "      <td>0.090302</td>\n",
              "      <td>0.006235</td>\n",
              "    </tr>\n",
              "    <tr>\n",
              "      <th>biaya</th>\n",
              "      <td>0.057262</td>\n",
              "      <td>-0.030162</td>\n",
              "      <td>-0.068315</td>\n",
              "      <td>-0.043988</td>\n",
              "      <td>-0.023186</td>\n",
              "      <td>0.032467</td>\n",
              "      <td>-0.446023</td>\n",
              "      <td>0.047878</td>\n",
              "      <td>1.000000</td>\n",
              "      <td>0.129667</td>\n",
              "      <td>-0.213556</td>\n",
              "      <td>-0.316611</td>\n",
              "      <td>0.051337</td>\n",
              "      <td>0.132897</td>\n",
              "      <td>0.194122</td>\n",
              "      <td>-0.004965</td>\n",
              "      <td>-0.101513</td>\n",
              "      <td>0.003317</td>\n",
              "    </tr>\n",
              "    <tr>\n",
              "      <th>jenispulang</th>\n",
              "      <td>0.037123</td>\n",
              "      <td>-0.006446</td>\n",
              "      <td>-0.058802</td>\n",
              "      <td>0.029344</td>\n",
              "      <td>-0.018430</td>\n",
              "      <td>-0.010620</td>\n",
              "      <td>-0.079056</td>\n",
              "      <td>0.018864</td>\n",
              "      <td>0.129667</td>\n",
              "      <td>1.000000</td>\n",
              "      <td>-0.064960</td>\n",
              "      <td>-0.025196</td>\n",
              "      <td>-0.003452</td>\n",
              "      <td>-0.007800</td>\n",
              "      <td>0.001615</td>\n",
              "      <td>-0.000096</td>\n",
              "      <td>0.004123</td>\n",
              "      <td>-0.002402</td>\n",
              "    </tr>\n",
              "    <tr>\n",
              "      <th>cbg</th>\n",
              "      <td>-0.054834</td>\n",
              "      <td>0.017375</td>\n",
              "      <td>0.038611</td>\n",
              "      <td>-0.051738</td>\n",
              "      <td>0.066883</td>\n",
              "      <td>0.011325</td>\n",
              "      <td>0.413078</td>\n",
              "      <td>0.160578</td>\n",
              "      <td>-0.213556</td>\n",
              "      <td>-0.064960</td>\n",
              "      <td>1.000000</td>\n",
              "      <td>0.230120</td>\n",
              "      <td>-0.051413</td>\n",
              "      <td>-0.098276</td>\n",
              "      <td>-0.007427</td>\n",
              "      <td>-0.037500</td>\n",
              "      <td>0.033155</td>\n",
              "      <td>-0.008125</td>\n",
              "    </tr>\n",
              "    <tr>\n",
              "      <th>kelasrawat</th>\n",
              "      <td>-0.003628</td>\n",
              "      <td>-0.003250</td>\n",
              "      <td>-0.043213</td>\n",
              "      <td>0.011967</td>\n",
              "      <td>-0.009578</td>\n",
              "      <td>0.015171</td>\n",
              "      <td>0.527171</td>\n",
              "      <td>-0.049087</td>\n",
              "      <td>-0.316611</td>\n",
              "      <td>-0.025196</td>\n",
              "      <td>0.230120</td>\n",
              "      <td>1.000000</td>\n",
              "      <td>0.003363</td>\n",
              "      <td>0.014501</td>\n",
              "      <td>-0.034568</td>\n",
              "      <td>-0.011258</td>\n",
              "      <td>-0.003735</td>\n",
              "      <td>-0.004448</td>\n",
              "    </tr>\n",
              "    <tr>\n",
              "      <th>kdsa</th>\n",
              "      <td>0.016594</td>\n",
              "      <td>-0.003928</td>\n",
              "      <td>0.002698</td>\n",
              "      <td>0.000477</td>\n",
              "      <td>-0.016126</td>\n",
              "      <td>0.005053</td>\n",
              "      <td>-0.038210</td>\n",
              "      <td>-0.026607</td>\n",
              "      <td>0.051337</td>\n",
              "      <td>-0.003452</td>\n",
              "      <td>-0.051413</td>\n",
              "      <td>0.003363</td>\n",
              "      <td>1.000000</td>\n",
              "      <td>-0.002100</td>\n",
              "      <td>-0.000676</td>\n",
              "      <td>0.000816</td>\n",
              "      <td>0.002844</td>\n",
              "      <td>-0.001588</td>\n",
              "    </tr>\n",
              "    <tr>\n",
              "      <th>kdsp</th>\n",
              "      <td>-0.020629</td>\n",
              "      <td>-0.002052</td>\n",
              "      <td>0.026061</td>\n",
              "      <td>0.071857</td>\n",
              "      <td>-0.004238</td>\n",
              "      <td>-0.034609</td>\n",
              "      <td>0.035052</td>\n",
              "      <td>-0.036515</td>\n",
              "      <td>0.132897</td>\n",
              "      <td>-0.007800</td>\n",
              "      <td>-0.098276</td>\n",
              "      <td>0.014501</td>\n",
              "      <td>-0.002100</td>\n",
              "      <td>1.000000</td>\n",
              "      <td>0.029961</td>\n",
              "      <td>0.002137</td>\n",
              "      <td>0.007449</td>\n",
              "      <td>0.000616</td>\n",
              "    </tr>\n",
              "    <tr>\n",
              "      <th>kdsr</th>\n",
              "      <td>0.005029</td>\n",
              "      <td>-0.004646</td>\n",
              "      <td>-0.004634</td>\n",
              "      <td>0.026820</td>\n",
              "      <td>0.007305</td>\n",
              "      <td>-0.007525</td>\n",
              "      <td>-0.032212</td>\n",
              "      <td>0.019248</td>\n",
              "      <td>0.194122</td>\n",
              "      <td>0.001615</td>\n",
              "      <td>-0.007427</td>\n",
              "      <td>-0.034568</td>\n",
              "      <td>-0.000676</td>\n",
              "      <td>0.029961</td>\n",
              "      <td>1.000000</td>\n",
              "      <td>0.000688</td>\n",
              "      <td>0.002398</td>\n",
              "      <td>-0.001897</td>\n",
              "    </tr>\n",
              "    <tr>\n",
              "      <th>kdsi</th>\n",
              "      <td>0.003371</td>\n",
              "      <td>0.003329</td>\n",
              "      <td>-0.009404</td>\n",
              "      <td>-0.013192</td>\n",
              "      <td>-0.000662</td>\n",
              "      <td>0.010283</td>\n",
              "      <td>-0.021354</td>\n",
              "      <td>-0.003978</td>\n",
              "      <td>-0.004965</td>\n",
              "      <td>-0.000096</td>\n",
              "      <td>-0.037500</td>\n",
              "      <td>-0.011258</td>\n",
              "      <td>0.000816</td>\n",
              "      <td>0.002137</td>\n",
              "      <td>0.000688</td>\n",
              "      <td>1.000000</td>\n",
              "      <td>-0.002895</td>\n",
              "      <td>0.000224</td>\n",
              "    </tr>\n",
              "    <tr>\n",
              "      <th>kdsd</th>\n",
              "      <td>-0.033926</td>\n",
              "      <td>0.015144</td>\n",
              "      <td>0.057434</td>\n",
              "      <td>0.095534</td>\n",
              "      <td>0.041641</td>\n",
              "      <td>-0.046337</td>\n",
              "      <td>0.005421</td>\n",
              "      <td>0.090302</td>\n",
              "      <td>-0.101513</td>\n",
              "      <td>0.004123</td>\n",
              "      <td>0.033155</td>\n",
              "      <td>-0.003735</td>\n",
              "      <td>0.002844</td>\n",
              "      <td>0.007449</td>\n",
              "      <td>0.002398</td>\n",
              "      <td>-0.002895</td>\n",
              "      <td>1.000000</td>\n",
              "      <td>-0.003636</td>\n",
              "    </tr>\n",
              "    <tr>\n",
              "      <th>label</th>\n",
              "      <td>0.002648</td>\n",
              "      <td>0.007179</td>\n",
              "      <td>-0.010546</td>\n",
              "      <td>-0.011001</td>\n",
              "      <td>-0.003613</td>\n",
              "      <td>0.007745</td>\n",
              "      <td>0.003210</td>\n",
              "      <td>0.006235</td>\n",
              "      <td>0.003317</td>\n",
              "      <td>-0.002402</td>\n",
              "      <td>-0.008125</td>\n",
              "      <td>-0.004448</td>\n",
              "      <td>-0.001588</td>\n",
              "      <td>0.000616</td>\n",
              "      <td>-0.001897</td>\n",
              "      <td>0.000224</td>\n",
              "      <td>-0.003636</td>\n",
              "      <td>1.000000</td>\n",
              "    </tr>\n",
              "  </tbody>\n",
              "</table>\n",
              "</div>\n",
              "      <button class=\"colab-df-convert\" onclick=\"convertToInteractive('df-fe63d09c-2db7-47e0-ac11-52e8309fe379')\"\n",
              "              title=\"Convert this dataframe to an interactive table.\"\n",
              "              style=\"display:none;\">\n",
              "        \n",
              "  <svg xmlns=\"http://www.w3.org/2000/svg\" height=\"24px\"viewBox=\"0 0 24 24\"\n",
              "       width=\"24px\">\n",
              "    <path d=\"M0 0h24v24H0V0z\" fill=\"none\"/>\n",
              "    <path d=\"M18.56 5.44l.94 2.06.94-2.06 2.06-.94-2.06-.94-.94-2.06-.94 2.06-2.06.94zm-11 1L8.5 8.5l.94-2.06 2.06-.94-2.06-.94L8.5 2.5l-.94 2.06-2.06.94zm10 10l.94 2.06.94-2.06 2.06-.94-2.06-.94-.94-2.06-.94 2.06-2.06.94z\"/><path d=\"M17.41 7.96l-1.37-1.37c-.4-.4-.92-.59-1.43-.59-.52 0-1.04.2-1.43.59L10.3 9.45l-7.72 7.72c-.78.78-.78 2.05 0 2.83L4 21.41c.39.39.9.59 1.41.59.51 0 1.02-.2 1.41-.59l7.78-7.78 2.81-2.81c.8-.78.8-2.07 0-2.86zM5.41 20L4 18.59l7.72-7.72 1.47 1.35L5.41 20z\"/>\n",
              "  </svg>\n",
              "      </button>\n",
              "      \n",
              "  <style>\n",
              "    .colab-df-container {\n",
              "      display:flex;\n",
              "      flex-wrap:wrap;\n",
              "      gap: 12px;\n",
              "    }\n",
              "\n",
              "    .colab-df-convert {\n",
              "      background-color: #E8F0FE;\n",
              "      border: none;\n",
              "      border-radius: 50%;\n",
              "      cursor: pointer;\n",
              "      display: none;\n",
              "      fill: #1967D2;\n",
              "      height: 32px;\n",
              "      padding: 0 0 0 0;\n",
              "      width: 32px;\n",
              "    }\n",
              "\n",
              "    .colab-df-convert:hover {\n",
              "      background-color: #E2EBFA;\n",
              "      box-shadow: 0px 1px 2px rgba(60, 64, 67, 0.3), 0px 1px 3px 1px rgba(60, 64, 67, 0.15);\n",
              "      fill: #174EA6;\n",
              "    }\n",
              "\n",
              "    [theme=dark] .colab-df-convert {\n",
              "      background-color: #3B4455;\n",
              "      fill: #D2E3FC;\n",
              "    }\n",
              "\n",
              "    [theme=dark] .colab-df-convert:hover {\n",
              "      background-color: #434B5C;\n",
              "      box-shadow: 0px 1px 3px 1px rgba(0, 0, 0, 0.15);\n",
              "      filter: drop-shadow(0px 1px 2px rgba(0, 0, 0, 0.3));\n",
              "      fill: #FFFFFF;\n",
              "    }\n",
              "  </style>\n",
              "\n",
              "      <script>\n",
              "        const buttonEl =\n",
              "          document.querySelector('#df-fe63d09c-2db7-47e0-ac11-52e8309fe379 button.colab-df-convert');\n",
              "        buttonEl.style.display =\n",
              "          google.colab.kernel.accessAllowed ? 'block' : 'none';\n",
              "\n",
              "        async function convertToInteractive(key) {\n",
              "          const element = document.querySelector('#df-fe63d09c-2db7-47e0-ac11-52e8309fe379');\n",
              "          const dataTable =\n",
              "            await google.colab.kernel.invokeFunction('convertToInteractive',\n",
              "                                                     [key], {});\n",
              "          if (!dataTable) return;\n",
              "\n",
              "          const docLinkHtml = 'Like what you see? Visit the ' +\n",
              "            '<a target=\"_blank\" href=https://colab.research.google.com/notebooks/data_table.ipynb>data table notebook</a>'\n",
              "            + ' to learn more about interactive tables.';\n",
              "          element.innerHTML = '';\n",
              "          dataTable['output_type'] = 'display_data';\n",
              "          await google.colab.output.renderOutput(dataTable, element);\n",
              "          const docLink = document.createElement('div');\n",
              "          docLink.innerHTML = docLinkHtml;\n",
              "          element.appendChild(docLink);\n",
              "        }\n",
              "      </script>\n",
              "    </div>\n",
              "  </div>\n",
              "  "
            ]
          },
          "metadata": {},
          "execution_count": 27
        }
      ],
      "source": [
        "train_data.corr()"
      ]
    },
    {
      "cell_type": "code",
      "execution_count": null,
      "metadata": {
        "colab": {
          "base_uri": "https://localhost:8080/",
          "height": 206
        },
        "id": "pQYi8M7Jr2M9",
        "outputId": "8db28ce3-9f59-4a8d-d2fe-67f0977a3e37"
      },
      "outputs": [
        {
          "output_type": "execute_result",
          "data": {
            "text/plain": [
              "        id  dati2  typefaskes  usia  jenkel  pisat  jenispel  diagfktp  \\\n",
              "0   165666     17          16    48       1    1.0         2      5472   \n",
              "1  1010828     17           0    63       0    1.0         1     11656   \n",
              "2   166042     17          16    53       1    1.0         2      2210   \n",
              "3   168937     17          16    54       1    1.0         2      3877   \n",
              "4  1005899     17           0    53       1    1.0         2      7637   \n",
              "\n",
              "        biaya  jenispulang  cbg  kelasrawat  kdsa  kdsp  kdsr  kdsi  kdsd  \\\n",
              "0    184300.0          1.0  825           3     0     0     0     3    11   \n",
              "1  10628400.0          1.0  106           1     0     0     0     3    11   \n",
              "2    187300.0          1.0  827           3     0     0     0     3    11   \n",
              "3    187300.0          1.0  827           3     0     0     0     3    11   \n",
              "4    381600.0          1.0  827           3     0     0     0     3    11   \n",
              "\n",
              "   label  \n",
              "0      0  \n",
              "1      0  \n",
              "2      0  \n",
              "3      0  \n",
              "4      0  "
            ],
            "text/html": [
              "\n",
              "  <div id=\"df-e8bd1cd8-fcf1-4faa-a6af-64519e68af64\">\n",
              "    <div class=\"colab-df-container\">\n",
              "      <div>\n",
              "<style scoped>\n",
              "    .dataframe tbody tr th:only-of-type {\n",
              "        vertical-align: middle;\n",
              "    }\n",
              "\n",
              "    .dataframe tbody tr th {\n",
              "        vertical-align: top;\n",
              "    }\n",
              "\n",
              "    .dataframe thead th {\n",
              "        text-align: right;\n",
              "    }\n",
              "</style>\n",
              "<table border=\"1\" class=\"dataframe\">\n",
              "  <thead>\n",
              "    <tr style=\"text-align: right;\">\n",
              "      <th></th>\n",
              "      <th>id</th>\n",
              "      <th>dati2</th>\n",
              "      <th>typefaskes</th>\n",
              "      <th>usia</th>\n",
              "      <th>jenkel</th>\n",
              "      <th>pisat</th>\n",
              "      <th>jenispel</th>\n",
              "      <th>diagfktp</th>\n",
              "      <th>biaya</th>\n",
              "      <th>jenispulang</th>\n",
              "      <th>cbg</th>\n",
              "      <th>kelasrawat</th>\n",
              "      <th>kdsa</th>\n",
              "      <th>kdsp</th>\n",
              "      <th>kdsr</th>\n",
              "      <th>kdsi</th>\n",
              "      <th>kdsd</th>\n",
              "      <th>label</th>\n",
              "    </tr>\n",
              "  </thead>\n",
              "  <tbody>\n",
              "    <tr>\n",
              "      <th>0</th>\n",
              "      <td>165666</td>\n",
              "      <td>17</td>\n",
              "      <td>16</td>\n",
              "      <td>48</td>\n",
              "      <td>1</td>\n",
              "      <td>1.0</td>\n",
              "      <td>2</td>\n",
              "      <td>5472</td>\n",
              "      <td>184300.0</td>\n",
              "      <td>1.0</td>\n",
              "      <td>825</td>\n",
              "      <td>3</td>\n",
              "      <td>0</td>\n",
              "      <td>0</td>\n",
              "      <td>0</td>\n",
              "      <td>3</td>\n",
              "      <td>11</td>\n",
              "      <td>0</td>\n",
              "    </tr>\n",
              "    <tr>\n",
              "      <th>1</th>\n",
              "      <td>1010828</td>\n",
              "      <td>17</td>\n",
              "      <td>0</td>\n",
              "      <td>63</td>\n",
              "      <td>0</td>\n",
              "      <td>1.0</td>\n",
              "      <td>1</td>\n",
              "      <td>11656</td>\n",
              "      <td>10628400.0</td>\n",
              "      <td>1.0</td>\n",
              "      <td>106</td>\n",
              "      <td>1</td>\n",
              "      <td>0</td>\n",
              "      <td>0</td>\n",
              "      <td>0</td>\n",
              "      <td>3</td>\n",
              "      <td>11</td>\n",
              "      <td>0</td>\n",
              "    </tr>\n",
              "    <tr>\n",
              "      <th>2</th>\n",
              "      <td>166042</td>\n",
              "      <td>17</td>\n",
              "      <td>16</td>\n",
              "      <td>53</td>\n",
              "      <td>1</td>\n",
              "      <td>1.0</td>\n",
              "      <td>2</td>\n",
              "      <td>2210</td>\n",
              "      <td>187300.0</td>\n",
              "      <td>1.0</td>\n",
              "      <td>827</td>\n",
              "      <td>3</td>\n",
              "      <td>0</td>\n",
              "      <td>0</td>\n",
              "      <td>0</td>\n",
              "      <td>3</td>\n",
              "      <td>11</td>\n",
              "      <td>0</td>\n",
              "    </tr>\n",
              "    <tr>\n",
              "      <th>3</th>\n",
              "      <td>168937</td>\n",
              "      <td>17</td>\n",
              "      <td>16</td>\n",
              "      <td>54</td>\n",
              "      <td>1</td>\n",
              "      <td>1.0</td>\n",
              "      <td>2</td>\n",
              "      <td>3877</td>\n",
              "      <td>187300.0</td>\n",
              "      <td>1.0</td>\n",
              "      <td>827</td>\n",
              "      <td>3</td>\n",
              "      <td>0</td>\n",
              "      <td>0</td>\n",
              "      <td>0</td>\n",
              "      <td>3</td>\n",
              "      <td>11</td>\n",
              "      <td>0</td>\n",
              "    </tr>\n",
              "    <tr>\n",
              "      <th>4</th>\n",
              "      <td>1005899</td>\n",
              "      <td>17</td>\n",
              "      <td>0</td>\n",
              "      <td>53</td>\n",
              "      <td>1</td>\n",
              "      <td>1.0</td>\n",
              "      <td>2</td>\n",
              "      <td>7637</td>\n",
              "      <td>381600.0</td>\n",
              "      <td>1.0</td>\n",
              "      <td>827</td>\n",
              "      <td>3</td>\n",
              "      <td>0</td>\n",
              "      <td>0</td>\n",
              "      <td>0</td>\n",
              "      <td>3</td>\n",
              "      <td>11</td>\n",
              "      <td>0</td>\n",
              "    </tr>\n",
              "  </tbody>\n",
              "</table>\n",
              "</div>\n",
              "      <button class=\"colab-df-convert\" onclick=\"convertToInteractive('df-e8bd1cd8-fcf1-4faa-a6af-64519e68af64')\"\n",
              "              title=\"Convert this dataframe to an interactive table.\"\n",
              "              style=\"display:none;\">\n",
              "        \n",
              "  <svg xmlns=\"http://www.w3.org/2000/svg\" height=\"24px\"viewBox=\"0 0 24 24\"\n",
              "       width=\"24px\">\n",
              "    <path d=\"M0 0h24v24H0V0z\" fill=\"none\"/>\n",
              "    <path d=\"M18.56 5.44l.94 2.06.94-2.06 2.06-.94-2.06-.94-.94-2.06-.94 2.06-2.06.94zm-11 1L8.5 8.5l.94-2.06 2.06-.94-2.06-.94L8.5 2.5l-.94 2.06-2.06.94zm10 10l.94 2.06.94-2.06 2.06-.94-2.06-.94-.94-2.06-.94 2.06-2.06.94z\"/><path d=\"M17.41 7.96l-1.37-1.37c-.4-.4-.92-.59-1.43-.59-.52 0-1.04.2-1.43.59L10.3 9.45l-7.72 7.72c-.78.78-.78 2.05 0 2.83L4 21.41c.39.39.9.59 1.41.59.51 0 1.02-.2 1.41-.59l7.78-7.78 2.81-2.81c.8-.78.8-2.07 0-2.86zM5.41 20L4 18.59l7.72-7.72 1.47 1.35L5.41 20z\"/>\n",
              "  </svg>\n",
              "      </button>\n",
              "      \n",
              "  <style>\n",
              "    .colab-df-container {\n",
              "      display:flex;\n",
              "      flex-wrap:wrap;\n",
              "      gap: 12px;\n",
              "    }\n",
              "\n",
              "    .colab-df-convert {\n",
              "      background-color: #E8F0FE;\n",
              "      border: none;\n",
              "      border-radius: 50%;\n",
              "      cursor: pointer;\n",
              "      display: none;\n",
              "      fill: #1967D2;\n",
              "      height: 32px;\n",
              "      padding: 0 0 0 0;\n",
              "      width: 32px;\n",
              "    }\n",
              "\n",
              "    .colab-df-convert:hover {\n",
              "      background-color: #E2EBFA;\n",
              "      box-shadow: 0px 1px 2px rgba(60, 64, 67, 0.3), 0px 1px 3px 1px rgba(60, 64, 67, 0.15);\n",
              "      fill: #174EA6;\n",
              "    }\n",
              "\n",
              "    [theme=dark] .colab-df-convert {\n",
              "      background-color: #3B4455;\n",
              "      fill: #D2E3FC;\n",
              "    }\n",
              "\n",
              "    [theme=dark] .colab-df-convert:hover {\n",
              "      background-color: #434B5C;\n",
              "      box-shadow: 0px 1px 3px 1px rgba(0, 0, 0, 0.15);\n",
              "      filter: drop-shadow(0px 1px 2px rgba(0, 0, 0, 0.3));\n",
              "      fill: #FFFFFF;\n",
              "    }\n",
              "  </style>\n",
              "\n",
              "      <script>\n",
              "        const buttonEl =\n",
              "          document.querySelector('#df-e8bd1cd8-fcf1-4faa-a6af-64519e68af64 button.colab-df-convert');\n",
              "        buttonEl.style.display =\n",
              "          google.colab.kernel.accessAllowed ? 'block' : 'none';\n",
              "\n",
              "        async function convertToInteractive(key) {\n",
              "          const element = document.querySelector('#df-e8bd1cd8-fcf1-4faa-a6af-64519e68af64');\n",
              "          const dataTable =\n",
              "            await google.colab.kernel.invokeFunction('convertToInteractive',\n",
              "                                                     [key], {});\n",
              "          if (!dataTable) return;\n",
              "\n",
              "          const docLinkHtml = 'Like what you see? Visit the ' +\n",
              "            '<a target=\"_blank\" href=https://colab.research.google.com/notebooks/data_table.ipynb>data table notebook</a>'\n",
              "            + ' to learn more about interactive tables.';\n",
              "          element.innerHTML = '';\n",
              "          dataTable['output_type'] = 'display_data';\n",
              "          await google.colab.output.renderOutput(dataTable, element);\n",
              "          const docLink = document.createElement('div');\n",
              "          docLink.innerHTML = docLinkHtml;\n",
              "          element.appendChild(docLink);\n",
              "        }\n",
              "      </script>\n",
              "    </div>\n",
              "  </div>\n",
              "  "
            ]
          },
          "metadata": {},
          "execution_count": 28
        }
      ],
      "source": [
        "train_data.head()"
      ]
    },
    {
      "cell_type": "markdown",
      "source": [
        "5. Modelling"
      ],
      "metadata": {
        "id": "7Ae5c-IRZlW2"
      }
    },
    {
      "cell_type": "code",
      "execution_count": null,
      "metadata": {
        "id": "TkxdevDbr2M9"
      },
      "outputs": [],
      "source": [
        "from sklearn.preprocessing import StandardScaler, MinMaxScaler\n",
        "from sklearn.linear_model import LogisticRegression\n",
        "from sklearn.ensemble import RandomForestClassifier\n",
        "from sklearn.model_selection import train_test_split\n",
        "from sklearn.metrics import accuracy_score, recall_score, precision_score, f1_score, confusion_matrix, roc_curve, roc_auc_score"
      ]
    },
    {
      "cell_type": "code",
      "source": [
        "from imblearn.pipeline import make_pipeline as make_pipeline_imb # To do our transformation in a unique time\n",
        "from imblearn.over_sampling import SMOTE\n",
        "from sklearn.pipeline import make_pipeline\n",
        "from imblearn.metrics import classification_report_imbalanced\n",
        "\n",
        "from sklearn.model_selection import train_test_split\n",
        "from collections import Counter\n",
        "\n",
        "from sklearn.linear_model import LogisticRegression\n",
        "from sklearn.ensemble import RandomForestClassifier"
      ],
      "metadata": {
        "id": "k2YB_quBUnRY"
      },
      "execution_count": null,
      "outputs": []
    },
    {
      "cell_type": "code",
      "source": [
        "minority_class_len = len(train_data[train_data.label == 1])\n",
        "print(minority_class_len)"
      ],
      "metadata": {
        "colab": {
          "base_uri": "https://localhost:8080/"
        },
        "id": "QUsido_GLZKB",
        "outputId": "9899b938-30f4-494d-eec5-4e8cdc1df65f"
      },
      "execution_count": null,
      "outputs": [
        {
          "output_type": "stream",
          "name": "stdout",
          "text": [
            "156889\n"
          ]
        }
      ]
    },
    {
      "cell_type": "code",
      "source": [
        "majority_class_indices = train_data[train_data.label == 0].index\n",
        "print(majority_class_indices)"
      ],
      "metadata": {
        "colab": {
          "base_uri": "https://localhost:8080/"
        },
        "id": "v28vMi0ILZRw",
        "outputId": "bf6768ba-d502-4961-a9e8-7c0cb4191c38"
      },
      "execution_count": null,
      "outputs": [
        {
          "output_type": "stream",
          "name": "stdout",
          "text": [
            "Int64Index([       0,        1,        2,        3,        4,        5,\n",
            "                   6,        7,        8,        9,\n",
            "            ...\n",
            "            11401872, 11401873, 11401874, 11401875, 11401876, 11401877,\n",
            "            11401878, 11401879, 11401880, 11401881],\n",
            "           dtype='int64', length=11244993)\n"
          ]
        }
      ]
    },
    {
      "cell_type": "code",
      "source": [
        "random_majority_indices=np.random.choice(majority_class_indices,\n",
        "                                         minority_class_len,\n",
        "                                         replace=False\n",
        "                                         )\n",
        "print(len(random_majority_indices))"
      ],
      "metadata": {
        "colab": {
          "base_uri": "https://localhost:8080/"
        },
        "id": "O4OQWtDaL0oX",
        "outputId": "ab4681aa-892d-4afd-dae7-8d2b8706fa62"
      },
      "execution_count": null,
      "outputs": [
        {
          "output_type": "stream",
          "name": "stdout",
          "text": [
            "156889\n"
          ]
        }
      ]
    },
    {
      "cell_type": "code",
      "source": [
        "minority_class_indices=train_data[train_data['label'] == 1].index\n",
        "print(minority_class_indices)"
      ],
      "metadata": {
        "colab": {
          "base_uri": "https://localhost:8080/"
        },
        "id": "NW7O0MkzM7aC",
        "outputId": "091475f0-97db-485b-a189-0b8cbee7a103"
      },
      "execution_count": null,
      "outputs": [
        {
          "output_type": "stream",
          "name": "stdout",
          "text": [
            "Int64Index([      20,      144,      239,      260,      316,      428,\n",
            "                 514,      529,      677,      708,\n",
            "            ...\n",
            "            11401122, 11401153, 11401168, 11401214, 11401217, 11401308,\n",
            "            11401331, 11401562, 11401772, 11401854],\n",
            "           dtype='int64', length=156889)\n"
          ]
        }
      ]
    },
    {
      "cell_type": "code",
      "source": [
        "under_sample_indices=np.concatenate([minority_class_indices,random_majority_indices])"
      ],
      "metadata": {
        "id": "zuphutCeMu44"
      },
      "execution_count": null,
      "outputs": []
    },
    {
      "cell_type": "code",
      "source": [
        "under_sample=train_data.loc[under_sample_indices]\n",
        "under_sample"
      ],
      "metadata": {
        "colab": {
          "base_uri": "https://localhost:8080/",
          "height": 424
        },
        "id": "d0PxO45jNZGf",
        "outputId": "1034ec01-68ff-47c5-810c-11a7110888e8"
      },
      "execution_count": null,
      "outputs": [
        {
          "output_type": "execute_result",
          "data": {
            "text/plain": [
              "              id  dati2  typefaskes  usia  jenkel  pisat  jenispel  diagfktp  \\\n",
              "20        998748     17           0    56       0    1.0         2      4184   \n",
              "144      1009373     17           0    22       0    4.0         1     12109   \n",
              "239      1052405     17           1    59       0    1.0         2      4122   \n",
              "260         1226      1          25    41       1    3.0         2      4119   \n",
              "316      1320238     10           2    50       0    1.0         2      1713   \n",
              "...          ...    ...         ...   ...     ...    ...       ...       ...   \n",
              "6638394  3187911    170          14    37       1    3.0         1     14886   \n",
              "8531889  2420018    133          24    55       1    3.0         2      2230   \n",
              "7243938  9000226    217          23     4       0    4.0         1     11763   \n",
              "516169    308978     38          23    22       1    4.0         2      9991   \n",
              "1724337  2662036    137          24    27       1    3.0         2      4335   \n",
              "\n",
              "              biaya  jenispulang  cbg  kelasrawat  kdsa  kdsp  kdsr  kdsi  \\\n",
              "20         809200.0          1.0  812           3     0     0     0     3   \n",
              "144      24291100.0          1.0  589           1     0     0     0     3   \n",
              "239        532900.0          1.0  812           3     0     0     0     3   \n",
              "260        525700.0          3.0  812           3     0     0     0     3   \n",
              "316        183500.0          1.0  827           3     0     0     0     3   \n",
              "...             ...          ...  ...         ...   ...   ...   ...   ...   \n",
              "6638394   2148600.0          1.0  998           1     0     0     0     3   \n",
              "8531889    190400.0          1.0  827           3     0     0     0     3   \n",
              "7243938   2987000.0          1.0  104           3     0     0     0     3   \n",
              "516169     146100.0          1.0  806           3     0     0     0     3   \n",
              "1724337    190400.0          2.0  827           3     0     0     0     3   \n",
              "\n",
              "         kdsd  label  \n",
              "20         11      1  \n",
              "144        11      1  \n",
              "239        11      1  \n",
              "260        11      1  \n",
              "316        11      1  \n",
              "...       ...    ...  \n",
              "6638394    11      0  \n",
              "8531889    11      0  \n",
              "7243938    11      0  \n",
              "516169     11      0  \n",
              "1724337    11      0  \n",
              "\n",
              "[313778 rows x 18 columns]"
            ],
            "text/html": [
              "\n",
              "  <div id=\"df-143b98f0-c973-48a1-ace7-086b3e6f9ad4\">\n",
              "    <div class=\"colab-df-container\">\n",
              "      <div>\n",
              "<style scoped>\n",
              "    .dataframe tbody tr th:only-of-type {\n",
              "        vertical-align: middle;\n",
              "    }\n",
              "\n",
              "    .dataframe tbody tr th {\n",
              "        vertical-align: top;\n",
              "    }\n",
              "\n",
              "    .dataframe thead th {\n",
              "        text-align: right;\n",
              "    }\n",
              "</style>\n",
              "<table border=\"1\" class=\"dataframe\">\n",
              "  <thead>\n",
              "    <tr style=\"text-align: right;\">\n",
              "      <th></th>\n",
              "      <th>id</th>\n",
              "      <th>dati2</th>\n",
              "      <th>typefaskes</th>\n",
              "      <th>usia</th>\n",
              "      <th>jenkel</th>\n",
              "      <th>pisat</th>\n",
              "      <th>jenispel</th>\n",
              "      <th>diagfktp</th>\n",
              "      <th>biaya</th>\n",
              "      <th>jenispulang</th>\n",
              "      <th>cbg</th>\n",
              "      <th>kelasrawat</th>\n",
              "      <th>kdsa</th>\n",
              "      <th>kdsp</th>\n",
              "      <th>kdsr</th>\n",
              "      <th>kdsi</th>\n",
              "      <th>kdsd</th>\n",
              "      <th>label</th>\n",
              "    </tr>\n",
              "  </thead>\n",
              "  <tbody>\n",
              "    <tr>\n",
              "      <th>20</th>\n",
              "      <td>998748</td>\n",
              "      <td>17</td>\n",
              "      <td>0</td>\n",
              "      <td>56</td>\n",
              "      <td>0</td>\n",
              "      <td>1.0</td>\n",
              "      <td>2</td>\n",
              "      <td>4184</td>\n",
              "      <td>809200.0</td>\n",
              "      <td>1.0</td>\n",
              "      <td>812</td>\n",
              "      <td>3</td>\n",
              "      <td>0</td>\n",
              "      <td>0</td>\n",
              "      <td>0</td>\n",
              "      <td>3</td>\n",
              "      <td>11</td>\n",
              "      <td>1</td>\n",
              "    </tr>\n",
              "    <tr>\n",
              "      <th>144</th>\n",
              "      <td>1009373</td>\n",
              "      <td>17</td>\n",
              "      <td>0</td>\n",
              "      <td>22</td>\n",
              "      <td>0</td>\n",
              "      <td>4.0</td>\n",
              "      <td>1</td>\n",
              "      <td>12109</td>\n",
              "      <td>24291100.0</td>\n",
              "      <td>1.0</td>\n",
              "      <td>589</td>\n",
              "      <td>1</td>\n",
              "      <td>0</td>\n",
              "      <td>0</td>\n",
              "      <td>0</td>\n",
              "      <td>3</td>\n",
              "      <td>11</td>\n",
              "      <td>1</td>\n",
              "    </tr>\n",
              "    <tr>\n",
              "      <th>239</th>\n",
              "      <td>1052405</td>\n",
              "      <td>17</td>\n",
              "      <td>1</td>\n",
              "      <td>59</td>\n",
              "      <td>0</td>\n",
              "      <td>1.0</td>\n",
              "      <td>2</td>\n",
              "      <td>4122</td>\n",
              "      <td>532900.0</td>\n",
              "      <td>1.0</td>\n",
              "      <td>812</td>\n",
              "      <td>3</td>\n",
              "      <td>0</td>\n",
              "      <td>0</td>\n",
              "      <td>0</td>\n",
              "      <td>3</td>\n",
              "      <td>11</td>\n",
              "      <td>1</td>\n",
              "    </tr>\n",
              "    <tr>\n",
              "      <th>260</th>\n",
              "      <td>1226</td>\n",
              "      <td>1</td>\n",
              "      <td>25</td>\n",
              "      <td>41</td>\n",
              "      <td>1</td>\n",
              "      <td>3.0</td>\n",
              "      <td>2</td>\n",
              "      <td>4119</td>\n",
              "      <td>525700.0</td>\n",
              "      <td>3.0</td>\n",
              "      <td>812</td>\n",
              "      <td>3</td>\n",
              "      <td>0</td>\n",
              "      <td>0</td>\n",
              "      <td>0</td>\n",
              "      <td>3</td>\n",
              "      <td>11</td>\n",
              "      <td>1</td>\n",
              "    </tr>\n",
              "    <tr>\n",
              "      <th>316</th>\n",
              "      <td>1320238</td>\n",
              "      <td>10</td>\n",
              "      <td>2</td>\n",
              "      <td>50</td>\n",
              "      <td>0</td>\n",
              "      <td>1.0</td>\n",
              "      <td>2</td>\n",
              "      <td>1713</td>\n",
              "      <td>183500.0</td>\n",
              "      <td>1.0</td>\n",
              "      <td>827</td>\n",
              "      <td>3</td>\n",
              "      <td>0</td>\n",
              "      <td>0</td>\n",
              "      <td>0</td>\n",
              "      <td>3</td>\n",
              "      <td>11</td>\n",
              "      <td>1</td>\n",
              "    </tr>\n",
              "    <tr>\n",
              "      <th>...</th>\n",
              "      <td>...</td>\n",
              "      <td>...</td>\n",
              "      <td>...</td>\n",
              "      <td>...</td>\n",
              "      <td>...</td>\n",
              "      <td>...</td>\n",
              "      <td>...</td>\n",
              "      <td>...</td>\n",
              "      <td>...</td>\n",
              "      <td>...</td>\n",
              "      <td>...</td>\n",
              "      <td>...</td>\n",
              "      <td>...</td>\n",
              "      <td>...</td>\n",
              "      <td>...</td>\n",
              "      <td>...</td>\n",
              "      <td>...</td>\n",
              "      <td>...</td>\n",
              "    </tr>\n",
              "    <tr>\n",
              "      <th>6638394</th>\n",
              "      <td>3187911</td>\n",
              "      <td>170</td>\n",
              "      <td>14</td>\n",
              "      <td>37</td>\n",
              "      <td>1</td>\n",
              "      <td>3.0</td>\n",
              "      <td>1</td>\n",
              "      <td>14886</td>\n",
              "      <td>2148600.0</td>\n",
              "      <td>1.0</td>\n",
              "      <td>998</td>\n",
              "      <td>1</td>\n",
              "      <td>0</td>\n",
              "      <td>0</td>\n",
              "      <td>0</td>\n",
              "      <td>3</td>\n",
              "      <td>11</td>\n",
              "      <td>0</td>\n",
              "    </tr>\n",
              "    <tr>\n",
              "      <th>8531889</th>\n",
              "      <td>2420018</td>\n",
              "      <td>133</td>\n",
              "      <td>24</td>\n",
              "      <td>55</td>\n",
              "      <td>1</td>\n",
              "      <td>3.0</td>\n",
              "      <td>2</td>\n",
              "      <td>2230</td>\n",
              "      <td>190400.0</td>\n",
              "      <td>1.0</td>\n",
              "      <td>827</td>\n",
              "      <td>3</td>\n",
              "      <td>0</td>\n",
              "      <td>0</td>\n",
              "      <td>0</td>\n",
              "      <td>3</td>\n",
              "      <td>11</td>\n",
              "      <td>0</td>\n",
              "    </tr>\n",
              "    <tr>\n",
              "      <th>7243938</th>\n",
              "      <td>9000226</td>\n",
              "      <td>217</td>\n",
              "      <td>23</td>\n",
              "      <td>4</td>\n",
              "      <td>0</td>\n",
              "      <td>4.0</td>\n",
              "      <td>1</td>\n",
              "      <td>11763</td>\n",
              "      <td>2987000.0</td>\n",
              "      <td>1.0</td>\n",
              "      <td>104</td>\n",
              "      <td>3</td>\n",
              "      <td>0</td>\n",
              "      <td>0</td>\n",
              "      <td>0</td>\n",
              "      <td>3</td>\n",
              "      <td>11</td>\n",
              "      <td>0</td>\n",
              "    </tr>\n",
              "    <tr>\n",
              "      <th>516169</th>\n",
              "      <td>308978</td>\n",
              "      <td>38</td>\n",
              "      <td>23</td>\n",
              "      <td>22</td>\n",
              "      <td>1</td>\n",
              "      <td>4.0</td>\n",
              "      <td>2</td>\n",
              "      <td>9991</td>\n",
              "      <td>146100.0</td>\n",
              "      <td>1.0</td>\n",
              "      <td>806</td>\n",
              "      <td>3</td>\n",
              "      <td>0</td>\n",
              "      <td>0</td>\n",
              "      <td>0</td>\n",
              "      <td>3</td>\n",
              "      <td>11</td>\n",
              "      <td>0</td>\n",
              "    </tr>\n",
              "    <tr>\n",
              "      <th>1724337</th>\n",
              "      <td>2662036</td>\n",
              "      <td>137</td>\n",
              "      <td>24</td>\n",
              "      <td>27</td>\n",
              "      <td>1</td>\n",
              "      <td>3.0</td>\n",
              "      <td>2</td>\n",
              "      <td>4335</td>\n",
              "      <td>190400.0</td>\n",
              "      <td>2.0</td>\n",
              "      <td>827</td>\n",
              "      <td>3</td>\n",
              "      <td>0</td>\n",
              "      <td>0</td>\n",
              "      <td>0</td>\n",
              "      <td>3</td>\n",
              "      <td>11</td>\n",
              "      <td>0</td>\n",
              "    </tr>\n",
              "  </tbody>\n",
              "</table>\n",
              "<p>313778 rows × 18 columns</p>\n",
              "</div>\n",
              "      <button class=\"colab-df-convert\" onclick=\"convertToInteractive('df-143b98f0-c973-48a1-ace7-086b3e6f9ad4')\"\n",
              "              title=\"Convert this dataframe to an interactive table.\"\n",
              "              style=\"display:none;\">\n",
              "        \n",
              "  <svg xmlns=\"http://www.w3.org/2000/svg\" height=\"24px\"viewBox=\"0 0 24 24\"\n",
              "       width=\"24px\">\n",
              "    <path d=\"M0 0h24v24H0V0z\" fill=\"none\"/>\n",
              "    <path d=\"M18.56 5.44l.94 2.06.94-2.06 2.06-.94-2.06-.94-.94-2.06-.94 2.06-2.06.94zm-11 1L8.5 8.5l.94-2.06 2.06-.94-2.06-.94L8.5 2.5l-.94 2.06-2.06.94zm10 10l.94 2.06.94-2.06 2.06-.94-2.06-.94-.94-2.06-.94 2.06-2.06.94z\"/><path d=\"M17.41 7.96l-1.37-1.37c-.4-.4-.92-.59-1.43-.59-.52 0-1.04.2-1.43.59L10.3 9.45l-7.72 7.72c-.78.78-.78 2.05 0 2.83L4 21.41c.39.39.9.59 1.41.59.51 0 1.02-.2 1.41-.59l7.78-7.78 2.81-2.81c.8-.78.8-2.07 0-2.86zM5.41 20L4 18.59l7.72-7.72 1.47 1.35L5.41 20z\"/>\n",
              "  </svg>\n",
              "      </button>\n",
              "      \n",
              "  <style>\n",
              "    .colab-df-container {\n",
              "      display:flex;\n",
              "      flex-wrap:wrap;\n",
              "      gap: 12px;\n",
              "    }\n",
              "\n",
              "    .colab-df-convert {\n",
              "      background-color: #E8F0FE;\n",
              "      border: none;\n",
              "      border-radius: 50%;\n",
              "      cursor: pointer;\n",
              "      display: none;\n",
              "      fill: #1967D2;\n",
              "      height: 32px;\n",
              "      padding: 0 0 0 0;\n",
              "      width: 32px;\n",
              "    }\n",
              "\n",
              "    .colab-df-convert:hover {\n",
              "      background-color: #E2EBFA;\n",
              "      box-shadow: 0px 1px 2px rgba(60, 64, 67, 0.3), 0px 1px 3px 1px rgba(60, 64, 67, 0.15);\n",
              "      fill: #174EA6;\n",
              "    }\n",
              "\n",
              "    [theme=dark] .colab-df-convert {\n",
              "      background-color: #3B4455;\n",
              "      fill: #D2E3FC;\n",
              "    }\n",
              "\n",
              "    [theme=dark] .colab-df-convert:hover {\n",
              "      background-color: #434B5C;\n",
              "      box-shadow: 0px 1px 3px 1px rgba(0, 0, 0, 0.15);\n",
              "      filter: drop-shadow(0px 1px 2px rgba(0, 0, 0, 0.3));\n",
              "      fill: #FFFFFF;\n",
              "    }\n",
              "  </style>\n",
              "\n",
              "      <script>\n",
              "        const buttonEl =\n",
              "          document.querySelector('#df-143b98f0-c973-48a1-ace7-086b3e6f9ad4 button.colab-df-convert');\n",
              "        buttonEl.style.display =\n",
              "          google.colab.kernel.accessAllowed ? 'block' : 'none';\n",
              "\n",
              "        async function convertToInteractive(key) {\n",
              "          const element = document.querySelector('#df-143b98f0-c973-48a1-ace7-086b3e6f9ad4');\n",
              "          const dataTable =\n",
              "            await google.colab.kernel.invokeFunction('convertToInteractive',\n",
              "                                                     [key], {});\n",
              "          if (!dataTable) return;\n",
              "\n",
              "          const docLinkHtml = 'Like what you see? Visit the ' +\n",
              "            '<a target=\"_blank\" href=https://colab.research.google.com/notebooks/data_table.ipynb>data table notebook</a>'\n",
              "            + ' to learn more about interactive tables.';\n",
              "          element.innerHTML = '';\n",
              "          dataTable['output_type'] = 'display_data';\n",
              "          await google.colab.output.renderOutput(dataTable, element);\n",
              "          const docLink = document.createElement('div');\n",
              "          docLink.innerHTML = docLinkHtml;\n",
              "          element.appendChild(docLink);\n",
              "        }\n",
              "      </script>\n",
              "    </div>\n",
              "  </div>\n",
              "  "
            ]
          },
          "metadata": {},
          "execution_count": 36
        }
      ]
    },
    {
      "cell_type": "code",
      "source": [
        "under_sample.info()"
      ],
      "metadata": {
        "colab": {
          "base_uri": "https://localhost:8080/"
        },
        "id": "MC-N6_8oOJ3R",
        "outputId": "5823f2ad-af55-4a4f-8529-602f767b325f"
      },
      "execution_count": null,
      "outputs": [
        {
          "output_type": "stream",
          "name": "stdout",
          "text": [
            "<class 'pandas.core.frame.DataFrame'>\n",
            "Int64Index: 313778 entries, 20 to 1724337\n",
            "Data columns (total 18 columns):\n",
            " #   Column       Non-Null Count   Dtype  \n",
            "---  ------       --------------   -----  \n",
            " 0   id           313778 non-null  int64  \n",
            " 1   dati2        313778 non-null  int64  \n",
            " 2   typefaskes   313778 non-null  int64  \n",
            " 3   usia         313778 non-null  int64  \n",
            " 4   jenkel       313778 non-null  int64  \n",
            " 5   pisat        313778 non-null  float64\n",
            " 6   jenispel     313778 non-null  int64  \n",
            " 7   diagfktp     313778 non-null  int64  \n",
            " 8   biaya        313778 non-null  float64\n",
            " 9   jenispulang  313778 non-null  float64\n",
            " 10  cbg          313778 non-null  int64  \n",
            " 11  kelasrawat   313778 non-null  int64  \n",
            " 12  kdsa         313778 non-null  int64  \n",
            " 13  kdsp         313778 non-null  int64  \n",
            " 14  kdsr         313778 non-null  int64  \n",
            " 15  kdsi         313778 non-null  int64  \n",
            " 16  kdsd         313778 non-null  int64  \n",
            " 17  label        313778 non-null  int64  \n",
            "dtypes: float64(3), int64(15)\n",
            "memory usage: 45.5 MB\n"
          ]
        }
      ]
    },
    {
      "cell_type": "code",
      "source": [
        "sns.countplot(x='label',data=under_sample)"
      ],
      "metadata": {
        "colab": {
          "base_uri": "https://localhost:8080/",
          "height": 296
        },
        "id": "T0bDwVFsNidw",
        "outputId": "78b2cb7f-fda4-46c7-94de-5f2375ffac8d"
      },
      "execution_count": null,
      "outputs": [
        {
          "output_type": "execute_result",
          "data": {
            "text/plain": [
              "<matplotlib.axes._subplots.AxesSubplot at 0x7fa224ad4c90>"
            ]
          },
          "metadata": {},
          "execution_count": 38
        },
        {
          "output_type": "display_data",
          "data": {
            "text/plain": [
              "<Figure size 432x288 with 1 Axes>"
            ],
            "image/png": "[encoded data removed]"
          },
          "metadata": {
            "needs_background": "light"
          }
        }
      ]
    },
    {
      "cell_type": "code",
      "source": [
        "X = under_sample.drop(columns = ['label','id'])\n",
        "y = under_sample['label']\n",
        "X_train, X_test, y_train, y_test = train_test_split( X, y, test_size=0.2, random_state=100)\n",
        "X_train.shape[0], X_test.shape[0]"
      ],
      "metadata": {
        "colab": {
          "base_uri": "https://localhost:8080/"
        },
        "id": "JvFgdMFqQPr-",
        "outputId": "8590c05b-38b5-4c82-e273-06936c83c32d"
      },
      "execution_count": null,
      "outputs": [
        {
          "output_type": "execute_result",
          "data": {
            "text/plain": [
              "(251022, 62756)"
            ]
          },
          "metadata": {},
          "execution_count": 39
        }
      ]
    },
    {
      "cell_type": "code",
      "source": [
        "# Create a results dataframe to store and later compare results\n",
        "results = pd.DataFrame()\n",
        "results['Metrics'] = ['True Negatives', 'False Negatives', 'False Positives', 'True Positives', 'Accuracy', 'Precision', 'Recall', 'F1-Score', 'Support']\n",
        "\n",
        "def get_metrics(labels, pred_labels):\n",
        "    conf_matrix = np.asarray(confusion_matrix(labels, pred_labels))\n",
        "    metrics = np.concatenate(([accuracy_score(labels, pred_labels)], precision_recall_fscore_support(labels, pred_labels, average='binary')))\n",
        "    return np.concatenate((conf_matrix.reshape(-1),metrics))\n",
        "\n",
        "def fit_model(input_data, model_fn, model_args=None, threshold=None, labels=None):\n",
        "    return model_fn(input_data, model_args, threshold, labels)\n",
        "\n",
        "def predict_model(input_data, model, predict_fn, threshold=None):\n",
        "    return predict_fn(input_data, model, threshold)"
      ],
      "metadata": {
        "id": "Ap9QUaJIIEw3"
      },
      "execution_count": null,
      "outputs": []
    },
    {
      "cell_type": "code",
      "source": [
        "from sklearn.ensemble import IsolationForest\n",
        "def fit_isolation_forest(input_data, args=None, threshold=None, labels=None):\n",
        "    if threshold == None:\n",
        "        model = IsolationForest()\n",
        "    else:\n",
        "        model = IsolationForest(contamination=threshold)\n",
        "    \n",
        "    model.fit(input_data)\n",
        "\n",
        "    return model\n",
        "\n",
        "def predict_isolation_forest(input_data, model, threshold=None):\n",
        "    y_pred = model.predict(input_data)\n",
        "    y_pred = [1 if pred == -1 else 0 for pred in y_pred]\n",
        "\n",
        "    return y_pred"
      ],
      "metadata": {
        "id": "7TKbmQBeIIvJ"
      },
      "execution_count": null,
      "outputs": []
    },
    {
      "cell_type": "code",
      "source": [
        "from sklearn.metrics import classification_report, confusion_matrix, accuracy_score, precision_recall_fscore_support, mean_squared_error\n",
        "if_model = fit_model(X_train, fit_isolation_forest, None)\n",
        "\n",
        "y_pred_test = predict_model(X_test, if_model, predict_isolation_forest)\n",
        "print('CONFUSION MATRIX:\\n', confusion_matrix(y_test,y_pred_test))\n",
        "print(\"Classification Report:\\n\", classification_report(y_test, y_pred_test))"
      ],
      "metadata": {
        "colab": {
          "base_uri": "https://localhost:8080/"
        },
        "id": "6oKP7R6UIL04",
        "outputId": "6d99adea-08e4-4a68-8148-cb2da06d63f3"
      },
      "execution_count": null,
      "outputs": [
        {
          "output_type": "stream",
          "name": "stdout",
          "text": [
            "CONFUSION MATRIX:\n",
            " [[23805  7476]\n",
            " [24657  6818]]\n",
            "Classification Report:\n",
            "               precision    recall  f1-score   support\n",
            "\n",
            "           0       0.49      0.76      0.60     31281\n",
            "           1       0.48      0.22      0.30     31475\n",
            "\n",
            "    accuracy                           0.49     62756\n",
            "   macro avg       0.48      0.49      0.45     62756\n",
            "weighted avg       0.48      0.49      0.45     62756\n",
            "\n"
          ]
        }
      ]
    },
    {
      "cell_type": "code",
      "source": [
        "from sklearn.mixture import GaussianMixture\n",
        "def fit_gaussian_mixture(input_data, args=None, threshold=None, labels=None):\n",
        "    if threshold == None:\n",
        "        model = GaussianMixture(n_components=2)\n",
        "    else:\n",
        "        model = GaussianMixture(n_components=2, reg_covar=threshold)\n",
        "    \n",
        "    model.fit(input_data)\n",
        "\n",
        "    return model\n",
        "\n",
        "def predict_gaussian_mixture(input_data, model, threshold=None):\n",
        "    return model.predict(input_data)"
      ],
      "metadata": {
        "id": "ha10fcuEI_vD"
      },
      "execution_count": null,
      "outputs": []
    },
    {
      "cell_type": "code",
      "source": [
        "gm_model = fit_model(X_train, fit_gaussian_mixture, None)\n",
        "\n",
        "y_pred_test = predict_model(X_test, gm_model, predict_gaussian_mixture)\n",
        "print('CONFUSION MATRIX:\\n', confusion_matrix(y_test,y_pred_test))\n",
        "print(\"Classification Report:\\n\", classification_report(y_test, y_pred_test))"
      ],
      "metadata": {
        "colab": {
          "base_uri": "https://localhost:8080/"
        },
        "id": "QUBFfFKFJGey",
        "outputId": "9ccc6b56-04b2-4c8e-a13c-705385a43d51"
      },
      "execution_count": null,
      "outputs": [
        {
          "output_type": "stream",
          "name": "stdout",
          "text": [
            "CONFUSION MATRIX:\n",
            " [[20291 10990]\n",
            " [21121 10354]]\n",
            "Classification Report:\n",
            "               precision    recall  f1-score   support\n",
            "\n",
            "           0       0.49      0.65      0.56     31281\n",
            "           1       0.49      0.33      0.39     31475\n",
            "\n",
            "    accuracy                           0.49     62756\n",
            "   macro avg       0.49      0.49      0.48     62756\n",
            "weighted avg       0.49      0.49      0.47     62756\n",
            "\n"
          ]
        }
      ]
    },
    {
      "cell_type": "code",
      "source": [
        "import matplotlib.pyplot as plt\n",
        "import numpy as np\n",
        "import pandas as pd\n",
        "from sklearn.ensemble import IsolationForest\n",
        "from tensorflow.keras.layers import Input, Dense\n",
        "from tensorflow.keras.models import Model, Sequential\n",
        "from tensorflow.keras.optimizers import Adam\n",
        "from sklearn.metrics import classification_report, confusion_matrix, accuracy_score, precision_recall_fscore_support, mean_squared_error, recall_score\n",
        "from sklearn.mixture import GaussianMixture\n",
        "from sklearn.neighbors import LocalOutlierFactor\n",
        "from sklearn.preprocessing import StandardScaler\n",
        "\n",
        "import warnings\n",
        "warnings.filterwarnings('ignore')\n",
        "def fit_autoencoder(input_data, args, threshold=None, labels=None):\n",
        "    ss = StandardScaler()\n",
        "    X_tscaled = ss.fit_transform(input_data.values)\n",
        "    X_fit = pd.DataFrame(X_tscaled, columns=input_data.columns, index=input_data.index)\n",
        "\n",
        "    # input\n",
        "    inp = Input(shape=(X_fit.shape[1],))\n",
        "\n",
        "    # Encoder\n",
        "    x = Dense(100, activation='relu')(inp)\n",
        "    x = Dense(50, activation='relu')(x)\n",
        "\n",
        "    # Decoder\n",
        "    x = Dense(50, activation='tanh')(x)\n",
        "    x = Dense(100, activation='tanh')(x)\n",
        "\n",
        "    ## output\n",
        "    output = Dense(X_fit.shape[1], activation='relu')(x)\n",
        "\n",
        "    autoencoder = Model(inp, output)\n",
        "\n",
        "    lr = args[0]\n",
        "    epochs = args[1]\n",
        "    adam = Adam(lr=lr, decay=(lr/epochs))\n",
        "\n",
        "    autoencoder.compile(optimizer=adam, loss=\"mean_squared_error\")\n",
        "\n",
        "    autoencoder.fit(X_fit.values, X_fit.values, batch_size=2048, epochs=epochs,\n",
        "                          shuffle=True, verbose=0)\n",
        "    encoder = Sequential()\n",
        "    encoder.add(autoencoder.layers[0])\n",
        "    encoder.add(autoencoder.layers[1])\n",
        "    encoder.add(autoencoder.layers[2])\n",
        "\n",
        "    decoder = Sequential()\n",
        "    decoder.add(autoencoder.layers[3])\n",
        "    decoder.add(autoencoder.layers[4])\n",
        "    decoder.add(autoencoder.layers[5])\n",
        "\n",
        "    return (encoder, decoder)\n",
        "\n",
        "def get_autoencoder_rc_scores(input_data, model):\n",
        "    ss = StandardScaler()\n",
        "    X_tscaled = ss.fit_transform(input_data.values)\n",
        "    X_fit = pd.DataFrame(X_tscaled, columns=input_data.columns, index=input_data.index)\n",
        "\n",
        "    encoded_data = model[0].predict(X_fit)\n",
        "    decoded_data = model[1].predict(encoded_data)\n",
        "\n",
        "    decoded_df = pd.DataFrame(decoded_data, columns=X_fit.columns, index=X_fit.index)\n",
        "\n",
        "    reconstruction_scores = []\n",
        "    for idx in X_fit.index:\n",
        "        score = mean_squared_error(X_fit.loc[idx], decoded_df.loc[idx])\n",
        "        reconstruction_scores.append(score)\n",
        "        \n",
        "    rc_scores = pd.DataFrame(reconstruction_scores, index=X_fit.index, columns=['reconstruction_score']).sort_values(by='reconstruction_score', ascending=False)\n",
        "\n",
        "    return rc_scores\n",
        "\n",
        "def predict_autoencoder(input_data, model, threshold=None):\n",
        "    rc_scores = get_autoencoder_rc_scores(input_data, model)\n",
        "\n",
        "    if threshold == None:\n",
        "        rec_median = rc_scores['reconstruction_score'].median()\n",
        "        rec_std = rc_scores['reconstruction_score'].std()\n",
        "\n",
        "        default_threshold = rec_median + 2*rec_std\n",
        "        score_filter = rc_scores > default_threshold\n",
        "    else:\n",
        "        score_filter = rc_scores > threshold\n",
        "\n",
        "    top_scores_idx = rc_scores[score_filter].dropna().index\n",
        "\n",
        "    pred = np.zeros(len(input_data))\n",
        "   \n",
        "    for x in top_scores_idx:\n",
        "        pred[x] = 1\n",
        "\n",
        "    return pred"
      ],
      "metadata": {
        "id": "NkStHiNGJPDB"
      },
      "execution_count": null,
      "outputs": []
    },
    {
      "cell_type": "code",
      "source": [
        "args = [0.0001, 300] # the fit function takes 2 arguments: lr (set to 0.0001) and epochs (set to 300)\n",
        "ae_model = fit_model(X_train, fit_autoencoder, args)\n",
        "\n",
        "y_pred_test = predict_model(X_test, ae_model, predict_autoencoder)\n",
        "print('CONFUSION MATRIX:\\n', confusion_matrix(y_test,y_pred_test))\n",
        "print(\"Classification Report:\\n\", classification_report(y_test, y_pred_test))"
      ],
      "metadata": {
        "colab": {
          "base_uri": "https://localhost:8080/",
          "height": 381
        },
        "id": "uS6kCCDLJRNr",
        "outputId": "5561c8bf-8dbb-422f-c3a1-aea8e42496e3"
      },
      "execution_count": null,
      "outputs": [
        {
          "output_type": "error",
          "ename": "IndexError",
          "evalue": "ignored",
          "traceback": [
            "\u001b[0;31m---------------------------------------------------------------------------\u001b[0m",
            "\u001b[0;31mIndexError\u001b[0m                                Traceback (most recent call last)",
            "\u001b[0;32m<ipython-input-51-a0606aa761f3>\u001b[0m in \u001b[0;36m<module>\u001b[0;34m\u001b[0m\n\u001b[1;32m      2\u001b[0m \u001b[0mae_model\u001b[0m \u001b[0;34m=\u001b[0m \u001b[0mfit_model\u001b[0m\u001b[0;34m(\u001b[0m\u001b[0mX_train\u001b[0m\u001b[0;34m,\u001b[0m \u001b[0mfit_autoencoder\u001b[0m\u001b[0;34m,\u001b[0m \u001b[0margs\u001b[0m\u001b[0;34m)\u001b[0m\u001b[0;34m\u001b[0m\u001b[0;34m\u001b[0m\u001b[0m\n\u001b[1;32m      3\u001b[0m \u001b[0;34m\u001b[0m\u001b[0m\n\u001b[0;32m----> 4\u001b[0;31m \u001b[0my_pred_test\u001b[0m \u001b[0;34m=\u001b[0m \u001b[0mpredict_model\u001b[0m\u001b[0;34m(\u001b[0m\u001b[0mX_test\u001b[0m\u001b[0;34m,\u001b[0m \u001b[0mae_model\u001b[0m\u001b[0;34m,\u001b[0m \u001b[0mpredict_autoencoder\u001b[0m\u001b[0;34m)\u001b[0m\u001b[0;34m\u001b[0m\u001b[0;34m\u001b[0m\u001b[0m\n\u001b[0m\u001b[1;32m      5\u001b[0m \u001b[0mprint\u001b[0m\u001b[0;34m(\u001b[0m\u001b[0;34m'CONFUSION MATRIX:\\n'\u001b[0m\u001b[0;34m,\u001b[0m \u001b[0mconfusion_matrix\u001b[0m\u001b[0;34m(\u001b[0m\u001b[0my_test\u001b[0m\u001b[0;34m,\u001b[0m\u001b[0my_pred_test\u001b[0m\u001b[0;34m)\u001b[0m\u001b[0;34m)\u001b[0m\u001b[0;34m\u001b[0m\u001b[0;34m\u001b[0m\u001b[0m\n\u001b[1;32m      6\u001b[0m \u001b[0mprint\u001b[0m\u001b[0;34m(\u001b[0m\u001b[0;34m\"Classification Report:\\n\"\u001b[0m\u001b[0;34m,\u001b[0m \u001b[0mclassification_report\u001b[0m\u001b[0;34m(\u001b[0m\u001b[0my_test\u001b[0m\u001b[0;34m,\u001b[0m \u001b[0my_pred_test\u001b[0m\u001b[0;34m)\u001b[0m\u001b[0;34m)\u001b[0m\u001b[0;34m\u001b[0m\u001b[0;34m\u001b[0m\u001b[0m\n",
            "\u001b[0;32m<ipython-input-40-e8a7238c1800>\u001b[0m in \u001b[0;36mpredict_model\u001b[0;34m(input_data, model, predict_fn, threshold)\u001b[0m\n\u001b[1;32m     12\u001b[0m \u001b[0;34m\u001b[0m\u001b[0m\n\u001b[1;32m     13\u001b[0m \u001b[0;32mdef\u001b[0m \u001b[0mpredict_model\u001b[0m\u001b[0;34m(\u001b[0m\u001b[0minput_data\u001b[0m\u001b[0;34m,\u001b[0m \u001b[0mmodel\u001b[0m\u001b[0;34m,\u001b[0m \u001b[0mpredict_fn\u001b[0m\u001b[0;34m,\u001b[0m \u001b[0mthreshold\u001b[0m\u001b[0;34m=\u001b[0m\u001b[0;32mNone\u001b[0m\u001b[0;34m)\u001b[0m\u001b[0;34m:\u001b[0m\u001b[0;34m\u001b[0m\u001b[0;34m\u001b[0m\u001b[0m\n\u001b[0;32m---> 14\u001b[0;31m     \u001b[0;32mreturn\u001b[0m \u001b[0mpredict_fn\u001b[0m\u001b[0;34m(\u001b[0m\u001b[0minput_data\u001b[0m\u001b[0;34m,\u001b[0m \u001b[0mmodel\u001b[0m\u001b[0;34m,\u001b[0m \u001b[0mthreshold\u001b[0m\u001b[0;34m)\u001b[0m\u001b[0;34m\u001b[0m\u001b[0;34m\u001b[0m\u001b[0m\n\u001b[0m",
            "\u001b[0;32m<ipython-input-48-18578917c7b0>\u001b[0m in \u001b[0;36mpredict_autoencoder\u001b[0;34m(input_data, model, threshold)\u001b[0m\n\u001b[1;32m     90\u001b[0m \u001b[0;34m\u001b[0m\u001b[0m\n\u001b[1;32m     91\u001b[0m     \u001b[0;32mfor\u001b[0m \u001b[0mx\u001b[0m \u001b[0;32min\u001b[0m \u001b[0mtop_scores_idx\u001b[0m\u001b[0;34m:\u001b[0m\u001b[0;34m\u001b[0m\u001b[0;34m\u001b[0m\u001b[0m\n\u001b[0;32m---> 92\u001b[0;31m         \u001b[0mpred\u001b[0m\u001b[0;34m[\u001b[0m\u001b[0mx\u001b[0m\u001b[0;34m]\u001b[0m \u001b[0;34m=\u001b[0m \u001b[0;36m1\u001b[0m\u001b[0;34m\u001b[0m\u001b[0;34m\u001b[0m\u001b[0m\n\u001b[0m\u001b[1;32m     93\u001b[0m \u001b[0;34m\u001b[0m\u001b[0m\n\u001b[1;32m     94\u001b[0m     \u001b[0;32mreturn\u001b[0m \u001b[0mpred\u001b[0m\u001b[0;34m\u001b[0m\u001b[0;34m\u001b[0m\u001b[0m\n",
            "\u001b[0;31mIndexError\u001b[0m: index 962230 is out of bounds for axis 0 with size 62756"
          ]
        }
      ]
    },
    {
      "cell_type": "code",
      "source": [
        "rf = RandomForestClassifier(bootstrap=True, ccp_alpha=0.0, class_weight=None,\n",
        "                       criterion='gini', max_depth=7, max_features='sqrt',\n",
        "                       max_leaf_nodes=None, max_samples=None,\n",
        "                       min_impurity_decrease=0.0, \n",
        "                       min_samples_leaf=1, min_samples_split=6,\n",
        "                       min_weight_fraction_leaf=0.0, n_estimators=10, n_jobs=-1,\n",
        "                       oob_score=False, random_state=None, verbose=0,\n",
        "                       warm_start=False)"
      ],
      "metadata": {
        "id": "-s89xb3piHVc"
      },
      "execution_count": null,
      "outputs": []
    },
    {
      "cell_type": "code",
      "source": [
        "rf.fit(X_train, y_train)"
      ],
      "metadata": {
        "colab": {
          "base_uri": "https://localhost:8080/"
        },
        "id": "Rk0VPZF9iL6U",
        "outputId": "c9cf3764-000e-4b02-a1e8-a58bbc044d47"
      },
      "execution_count": null,
      "outputs": [
        {
          "output_type": "execute_result",
          "data": {
            "text/plain": [
              "RandomForestClassifier(max_depth=7, max_features='sqrt', min_samples_split=6,\n",
              "                       n_estimators=10, n_jobs=-1)"
            ]
          },
          "metadata": {},
          "execution_count": 41
        }
      ]
    },
    {
      "cell_type": "code",
      "source": [
        "val2=train_data.drop(columns = ['label','id'])\n",
        "valy=train_data['label']"
      ],
      "metadata": {
        "id": "nlS-eJHNUxma"
      },
      "execution_count": null,
      "outputs": []
    },
    {
      "cell_type": "code",
      "source": [
        "from sklearn.tree import DecisionTreeRegressor\n",
        "\n",
        "DecisionTree_model=DecisionTreeRegressor()\n",
        "DecisionTree_model.fit(X_train,y_train)"
      ],
      "metadata": {
        "colab": {
          "base_uri": "https://localhost:8080/"
        },
        "id": "bzdF0Q0Cl54H",
        "outputId": "2f9c2f27-3210-4315-bc48-698ed03ec007"
      },
      "execution_count": null,
      "outputs": [
        {
          "output_type": "execute_result",
          "data": {
            "text/plain": [
              "DecisionTreeRegressor()"
            ]
          },
          "metadata": {},
          "execution_count": 43
        }
      ]
    },
    {
      "cell_type": "code",
      "source": [
        "y_pred = DecisionTree_model.predict(val2)"
      ],
      "metadata": {
        "id": "R-ZSSaHcM_Wt"
      },
      "execution_count": null,
      "outputs": []
    },
    {
      "cell_type": "code",
      "source": [
        "y_pred"
      ],
      "metadata": {
        "id": "Hxpo2abC6Att",
        "outputId": "87c5293c-ba2b-4426-b3c2-130dde42a0df",
        "colab": {
          "base_uri": "https://localhost:8080/"
        }
      },
      "execution_count": null,
      "outputs": [
        {
          "output_type": "execute_result",
          "data": {
            "text/plain": [
              "array([0., 0., 0., ..., 0., 0., 0.])"
            ]
          },
          "metadata": {},
          "execution_count": 47
        }
      ]
    },
    {
      "cell_type": "code",
      "source": [
        "tn, fp , fn, tp = confusion_matrix(valy, y_pred).ravel()\n",
        "\n",
        "plt.figure(figsize = (5,3)) \n",
        "sns.heatmap(np.array([tp, fp , fn, tn]).reshape(2,2),xticklabels = [1,0], yticklabels = [1,0], annot = True,cmap=\"YlGnBu\")\n",
        "plt.title('Confusion Matrix')\n",
        "plt.xlabel('Actual Values')\n",
        "plt.ylabel('Predicted Values')"
      ],
      "metadata": {
        "colab": {
          "base_uri": "https://localhost:8080/",
          "height": 381
        },
        "id": "mnmhMVMfNIe1",
        "outputId": "cacf6c21-3ee1-4568-b42d-84c28755ae65"
      },
      "execution_count": null,
      "outputs": [
        {
          "output_type": "error",
          "ename": "ValueError",
          "evalue": "ignored",
          "traceback": [
            "\u001b[0;31m---------------------------------------------------------------------------\u001b[0m",
            "\u001b[0;31mValueError\u001b[0m                                Traceback (most recent call last)",
            "\u001b[0;32m<ipython-input-46-64297916f5f7>\u001b[0m in \u001b[0;36m<module>\u001b[0;34m\u001b[0m\n\u001b[0;32m----> 1\u001b[0;31m \u001b[0mtn\u001b[0m\u001b[0;34m,\u001b[0m \u001b[0mfp\u001b[0m \u001b[0;34m,\u001b[0m \u001b[0mfn\u001b[0m\u001b[0;34m,\u001b[0m \u001b[0mtp\u001b[0m \u001b[0;34m=\u001b[0m \u001b[0mconfusion_matrix\u001b[0m\u001b[0;34m(\u001b[0m\u001b[0mvaly\u001b[0m\u001b[0;34m,\u001b[0m \u001b[0my_pred\u001b[0m\u001b[0;34m)\u001b[0m\u001b[0;34m.\u001b[0m\u001b[0mravel\u001b[0m\u001b[0;34m(\u001b[0m\u001b[0;34m)\u001b[0m\u001b[0;34m\u001b[0m\u001b[0;34m\u001b[0m\u001b[0m\n\u001b[0m\u001b[1;32m      2\u001b[0m \u001b[0;34m\u001b[0m\u001b[0m\n\u001b[1;32m      3\u001b[0m \u001b[0mplt\u001b[0m\u001b[0;34m.\u001b[0m\u001b[0mfigure\u001b[0m\u001b[0;34m(\u001b[0m\u001b[0mfigsize\u001b[0m \u001b[0;34m=\u001b[0m \u001b[0;34m(\u001b[0m\u001b[0;36m5\u001b[0m\u001b[0;34m,\u001b[0m\u001b[0;36m3\u001b[0m\u001b[0;34m)\u001b[0m\u001b[0;34m)\u001b[0m\u001b[0;34m\u001b[0m\u001b[0;34m\u001b[0m\u001b[0m\n\u001b[1;32m      4\u001b[0m \u001b[0msns\u001b[0m\u001b[0;34m.\u001b[0m\u001b[0mheatmap\u001b[0m\u001b[0;34m(\u001b[0m\u001b[0mnp\u001b[0m\u001b[0;34m.\u001b[0m\u001b[0marray\u001b[0m\u001b[0;34m(\u001b[0m\u001b[0;34m[\u001b[0m\u001b[0mtp\u001b[0m\u001b[0;34m,\u001b[0m \u001b[0mfp\u001b[0m \u001b[0;34m,\u001b[0m \u001b[0mfn\u001b[0m\u001b[0;34m,\u001b[0m \u001b[0mtn\u001b[0m\u001b[0;34m]\u001b[0m\u001b[0;34m)\u001b[0m\u001b[0;34m.\u001b[0m\u001b[0mreshape\u001b[0m\u001b[0;34m(\u001b[0m\u001b[0;36m2\u001b[0m\u001b[0;34m,\u001b[0m\u001b[0;36m2\u001b[0m\u001b[0;34m)\u001b[0m\u001b[0;34m,\u001b[0m\u001b[0mxticklabels\u001b[0m \u001b[0;34m=\u001b[0m \u001b[0;34m[\u001b[0m\u001b[0;36m1\u001b[0m\u001b[0;34m,\u001b[0m\u001b[0;36m0\u001b[0m\u001b[0;34m]\u001b[0m\u001b[0;34m,\u001b[0m \u001b[0myticklabels\u001b[0m \u001b[0;34m=\u001b[0m \u001b[0;34m[\u001b[0m\u001b[0;36m1\u001b[0m\u001b[0;34m,\u001b[0m\u001b[0;36m0\u001b[0m\u001b[0;34m]\u001b[0m\u001b[0;34m,\u001b[0m \u001b[0mannot\u001b[0m \u001b[0;34m=\u001b[0m \u001b[0;32mTrue\u001b[0m\u001b[0;34m,\u001b[0m\u001b[0mcmap\u001b[0m\u001b[0;34m=\u001b[0m\u001b[0;34m\"YlGnBu\"\u001b[0m\u001b[0;34m)\u001b[0m\u001b[0;34m\u001b[0m\u001b[0;34m\u001b[0m\u001b[0m\n\u001b[1;32m      5\u001b[0m \u001b[0mplt\u001b[0m\u001b[0;34m.\u001b[0m\u001b[0mtitle\u001b[0m\u001b[0;34m(\u001b[0m\u001b[0;34m'Confusion Matrix'\u001b[0m\u001b[0;34m)\u001b[0m\u001b[0;34m\u001b[0m\u001b[0;34m\u001b[0m\u001b[0m\n",
            "\u001b[0;32m/usr/local/lib/python3.7/dist-packages/sklearn/metrics/_classification.py\u001b[0m in \u001b[0;36mconfusion_matrix\u001b[0;34m(y_true, y_pred, labels, sample_weight, normalize)\u001b[0m\n\u001b[1;32m    305\u001b[0m     \u001b[0;34m(\u001b[0m\u001b[0;36m0\u001b[0m\u001b[0;34m,\u001b[0m \u001b[0;36m2\u001b[0m\u001b[0;34m,\u001b[0m \u001b[0;36m1\u001b[0m\u001b[0;34m,\u001b[0m \u001b[0;36m1\u001b[0m\u001b[0;34m)\u001b[0m\u001b[0;34m\u001b[0m\u001b[0;34m\u001b[0m\u001b[0m\n\u001b[1;32m    306\u001b[0m     \"\"\"\n\u001b[0;32m--> 307\u001b[0;31m     \u001b[0my_type\u001b[0m\u001b[0;34m,\u001b[0m \u001b[0my_true\u001b[0m\u001b[0;34m,\u001b[0m \u001b[0my_pred\u001b[0m \u001b[0;34m=\u001b[0m \u001b[0m_check_targets\u001b[0m\u001b[0;34m(\u001b[0m\u001b[0my_true\u001b[0m\u001b[0;34m,\u001b[0m \u001b[0my_pred\u001b[0m\u001b[0;34m)\u001b[0m\u001b[0;34m\u001b[0m\u001b[0;34m\u001b[0m\u001b[0m\n\u001b[0m\u001b[1;32m    308\u001b[0m     \u001b[0;32mif\u001b[0m \u001b[0my_type\u001b[0m \u001b[0;32mnot\u001b[0m \u001b[0;32min\u001b[0m \u001b[0;34m(\u001b[0m\u001b[0;34m\"binary\"\u001b[0m\u001b[0;34m,\u001b[0m \u001b[0;34m\"multiclass\"\u001b[0m\u001b[0;34m)\u001b[0m\u001b[0;34m:\u001b[0m\u001b[0;34m\u001b[0m\u001b[0;34m\u001b[0m\u001b[0m\n\u001b[1;32m    309\u001b[0m         \u001b[0;32mraise\u001b[0m \u001b[0mValueError\u001b[0m\u001b[0;34m(\u001b[0m\u001b[0;34m\"%s is not supported\"\u001b[0m \u001b[0;34m%\u001b[0m \u001b[0my_type\u001b[0m\u001b[0;34m)\u001b[0m\u001b[0;34m\u001b[0m\u001b[0;34m\u001b[0m\u001b[0m\n",
            "\u001b[0;32m/usr/local/lib/python3.7/dist-packages/sklearn/metrics/_classification.py\u001b[0m in \u001b[0;36m_check_targets\u001b[0;34m(y_true, y_pred)\u001b[0m\n\u001b[1;32m     93\u001b[0m         raise ValueError(\n\u001b[1;32m     94\u001b[0m             \"Classification metrics can't handle a mix of {0} and {1} targets\".format(\n\u001b[0;32m---> 95\u001b[0;31m                 \u001b[0mtype_true\u001b[0m\u001b[0;34m,\u001b[0m \u001b[0mtype_pred\u001b[0m\u001b[0;34m\u001b[0m\u001b[0;34m\u001b[0m\u001b[0m\n\u001b[0m\u001b[1;32m     96\u001b[0m             )\n\u001b[1;32m     97\u001b[0m         )\n",
            "\u001b[0;31mValueError\u001b[0m: Classification metrics can't handle a mix of binary and continuous targets"
          ]
        }
      ]
    },
    {
      "cell_type": "code",
      "source": [
        "# Evaluation Metrics\n",
        "print('Accuracy score : ',accuracy_score(valy, pred))\n",
        "print('Recall score : ',recall_score(valy, y_pred))\n",
        "print('Precision score : ',precision_score(valy, y_pred))\n",
        "print('F1 score : ',f1_score(valy, y_pred))"
      ],
      "metadata": {
        "id": "QkDrSI3Fj9Ak"
      },
      "execution_count": null,
      "outputs": []
    },
    {
      "cell_type": "markdown",
      "source": [
        "6. Evaluation"
      ],
      "metadata": {
        "id": "vd5HPzLfZt_e"
      }
    },
    {
      "cell_type": "code",
      "source": [
        "test_data=pd.read_csv('/content/sampling2_healthkathon2022_sep.csv')"
      ],
      "metadata": {
        "id": "t8oUPwDaoWMV"
      },
      "execution_count": null,
      "outputs": []
    },
    {
      "cell_type": "code",
      "execution_count": null,
      "metadata": {
        "id": "wROVtnEXpakq"
      },
      "outputs": [],
      "source": [
        "print(test_data.head())"
      ]
    },
    {
      "cell_type": "code",
      "execution_count": null,
      "metadata": {
        "id": "7B8fjHUGpakr"
      },
      "outputs": [],
      "source": [
        "print(\"Number of rows in training set: {}\".format(len(test_data)))"
      ]
    },
    {
      "cell_type": "code",
      "execution_count": null,
      "metadata": {
        "id": "ojNzmqvDpakr"
      },
      "outputs": [],
      "source": [
        "test_data.info()"
      ]
    },
    {
      "cell_type": "markdown",
      "source": [],
      "metadata": {
        "id": "PcVqIollpaks"
      }
    },
    {
      "cell_type": "code",
      "execution_count": null,
      "metadata": {
        "id": "BlpCyWIdpaks"
      },
      "outputs": [],
      "source": [
        "test_data.duplicated().sum()"
      ]
    },
    {
      "cell_type": "code",
      "execution_count": null,
      "metadata": {
        "id": "AJuNss_Zpaks"
      },
      "outputs": [],
      "source": [
        "test_data.isnull().sum()"
      ]
    },
    {
      "cell_type": "markdown",
      "source": [
        "2. Data cleansing"
      ],
      "metadata": {
        "id": "vOAQXqIgpakt"
      }
    },
    {
      "cell_type": "code",
      "execution_count": null,
      "metadata": {
        "id": "yfUIEFMcpakt"
      },
      "outputs": [],
      "source": [
        "test_data['kdsa'].value_counts()"
      ]
    },
    {
      "cell_type": "code",
      "execution_count": null,
      "metadata": {
        "id": "nsOEfA-5pakt"
      },
      "outputs": [],
      "source": [
        "test_data['kdsa'] = test_data['kdsa'].fillna('None')\n",
        "test_data['kdsp'] = test_data['kdsp'].fillna('None')\n",
        "test_data['kdsr'] = test_data['kdsr'].fillna('None')\n",
        "test_data['kdsi'] = test_data['kdsi'].fillna('None')\n",
        "test_data['kdsd'] = test_data['kdsd'].fillna('None')"
      ]
    },
    {
      "cell_type": "code",
      "execution_count": null,
      "metadata": {
        "id": "n7rS0_TWpakt"
      },
      "outputs": [],
      "source": [
        "test_data['jenkel'].value_counts()"
      ]
    },
    {
      "cell_type": "code",
      "execution_count": null,
      "metadata": {
        "id": "kfQnlp7qpakt"
      },
      "outputs": [],
      "source": [
        "test_data['jenkel'] = test_data['jenkel'].fillna('P')"
      ]
    },
    {
      "cell_type": "code",
      "execution_count": null,
      "metadata": {
        "id": "1tH9C050pakt"
      },
      "outputs": [],
      "source": [
        "test_data['pisat'].value_counts()"
      ]
    },
    {
      "cell_type": "code",
      "execution_count": null,
      "metadata": {
        "id": "fNpWKKGWpaku"
      },
      "outputs": [],
      "source": [
        "test_data['pisat'] = test_data['pisat'].fillna(1.0)"
      ]
    },
    {
      "cell_type": "code",
      "execution_count": null,
      "metadata": {
        "id": "bUuip-Ozpaku"
      },
      "outputs": [],
      "source": [
        "test_data['politujuan'].value_counts()"
      ]
    },
    {
      "cell_type": "code",
      "execution_count": null,
      "metadata": {
        "id": "bZPwIzyrpaku"
      },
      "outputs": [],
      "source": [
        "test_data['diagfktp'].value_counts()"
      ]
    },
    {
      "cell_type": "code",
      "execution_count": null,
      "metadata": {
        "id": "-Ip74JjJpaku"
      },
      "outputs": [],
      "source": [
        "test_data['diagfktp'] = test_data['diagfktp'].fillna('ZO9.8')"
      ]
    },
    {
      "cell_type": "code",
      "execution_count": null,
      "metadata": {
        "id": "SdplwoyEpaku"
      },
      "outputs": [],
      "source": [
        "test_data['biaya'].value_counts()"
      ]
    },
    {
      "cell_type": "code",
      "execution_count": null,
      "metadata": {
        "id": "FXMv-Mhnpaku"
      },
      "outputs": [],
      "source": [
        "test_data['biaya'] = test_data['biaya'].fillna(value=test_data['biaya'].mean())"
      ]
    },
    {
      "cell_type": "code",
      "execution_count": null,
      "metadata": {
        "id": "ailv7RCEpakv"
      },
      "outputs": [],
      "source": [
        "test_data['jenispulang'].value_counts()"
      ]
    },
    {
      "cell_type": "code",
      "execution_count": null,
      "metadata": {
        "id": "YBE5SKqTpakv"
      },
      "outputs": [],
      "source": [
        "test_data['jenispulang'] = test_data['jenispulang'].fillna(1.0)"
      ]
    },
    {
      "cell_type": "code",
      "execution_count": null,
      "metadata": {
        "id": "wDgJ7A3npakv"
      },
      "outputs": [],
      "source": [
        "test_data.isnull().sum()"
      ]
    },
    {
      "cell_type": "code",
      "execution_count": null,
      "metadata": {
        "id": "T4AEs1BQpakv"
      },
      "outputs": [],
      "source": [
        "test_data = test_data.drop(['politujuan','tglpulang','tgldatang','id_peserta'], axis=1)"
      ]
    },
    {
      "cell_type": "code",
      "source": [
        "test_data"
      ],
      "metadata": {
        "id": "PjlVAhtkkvek"
      },
      "execution_count": null,
      "outputs": []
    },
    {
      "cell_type": "markdown",
      "source": [
        "3. Exploratory Data Analysis(EDA)"
      ],
      "metadata": {
        "id": "ELmzfoigpakv"
      }
    },
    {
      "cell_type": "markdown",
      "source": [
        "4. Feature Engineering"
      ],
      "metadata": {
        "id": "wigZV_A9pakw"
      }
    },
    {
      "cell_type": "code",
      "execution_count": null,
      "metadata": {
        "id": "BmZtZQB1pakw"
      },
      "outputs": [],
      "source": [
        "from sklearn.preprocessing import LabelEncoder\n",
        "le=LabelEncoder\n",
        "typefaskes_le=LabelEncoder()\n",
        "test_data['typefaskes']=typefaskes_le.fit_transform(test_data['typefaskes'])\n",
        "jenkel_le=LabelEncoder()\n",
        "test_data['jenkel']=jenkel_le.fit_transform(test_data['jenkel'])\n",
        "diagfktp_le=LabelEncoder()\n",
        "test_data['diagfktp']=diagfktp_le.fit_transform(test_data['diagfktp'])\n",
        "cbg_le=LabelEncoder()\n",
        "test_data['cbg']=cbg_le.fit_transform(test_data['cbg'])\n",
        "kdsa_le=LabelEncoder()\n",
        "test_data['kdsa']=kdsa_le.fit_transform(test_data['kdsa'])\n",
        "kdsp_le=LabelEncoder()\n",
        "test_data['kdsp']=kdsp_le.fit_transform(test_data['kdsp'])\n",
        "kdsr_le=LabelEncoder()\n",
        "test_data['kdsr']=kdsr_le.fit_transform(test_data['kdsr'])\n",
        "kdsi_le=LabelEncoder()\n",
        "test_data['kdsi']=kdsi_le.fit_transform(test_data['kdsi'])\n",
        "kdsd_le=LabelEncoder()\n",
        "test_data['kdsd']=kdsd_le.fit_transform(test_data['kdsd'])"
      ]
    },
    {
      "cell_type": "code",
      "execution_count": null,
      "metadata": {
        "id": "r7vDiGfWk9VW"
      },
      "outputs": [],
      "source": [
        "test_data.info()"
      ]
    },
    {
      "cell_type": "code",
      "execution_count": null,
      "metadata": {
        "id": "AVYpw5PJk9VW"
      },
      "outputs": [],
      "source": [
        "test_data.corr()"
      ]
    },
    {
      "cell_type": "code",
      "execution_count": null,
      "metadata": {
        "id": "Gqs2gIqSk9VW"
      },
      "outputs": [],
      "source": [
        "test_data.head()"
      ]
    },
    {
      "cell_type": "code",
      "source": [
        "x_test= test_data.drop(['id'], axis=1)"
      ],
      "metadata": {
        "id": "1Zld6Pjhqa6O"
      },
      "execution_count": null,
      "outputs": []
    },
    {
      "cell_type": "code",
      "source": [
        "test_pred = rf.predict(x_test)"
      ],
      "metadata": {
        "id": "ewTVN6hwkjGt"
      },
      "execution_count": null,
      "outputs": []
    },
    {
      "cell_type": "code",
      "source": [
        "# Evaluation Metrics\n",
        "print('Accuracy score : ',accuracy_score(y_test, y_pred))\n",
        "print('Recall score : ',recall_score(y_test, y_pred))\n",
        "print('Precision score : ',precision_score(y_test, y_pred))\n",
        "print('F1 score : ',f1_score(y_test, y_pred))"
      ],
      "metadata": {
        "id": "VkExufRMT9ni"
      },
      "execution_count": null,
      "outputs": []
    },
    {
      "cell_type": "code",
      "source": [
        "test_pred"
      ],
      "metadata": {
        "id": "Cb-AeouUqiZN"
      },
      "execution_count": null,
      "outputs": []
    },
    {
      "cell_type": "code",
      "source": [
        "id=test_data['id']"
      ],
      "metadata": {
        "id": "yNaa5DUtrzcY"
      },
      "execution_count": null,
      "outputs": []
    },
    {
      "cell_type": "code",
      "source": [
        "hasil=pd.DataFrame({\"id\":id,\"label\":test_pred})\n",
        "hasil"
      ],
      "metadata": {
        "id": "0KytnJquqvsF"
      },
      "execution_count": null,
      "outputs": []
    },
    {
      "cell_type": "code",
      "source": [
        "hasil.to_csv('/content/drive/MyDrive/HealthKathon/HealthKaton/hasil.csv', index = False)"
      ],
      "metadata": {
        "id": "9z-vWUgFRHvi"
      },
      "execution_count": null,
      "outputs": []
    }
  ],
  "metadata": {
    "accelerator": "TPU",
    "colab": {
      "provenance": []
    },
    "kernelspec": {
      "display_name": "Python 3",
      "language": "python",
      "name": "python3"
    },
    "language_info": {
      "codemirror_mode": {
        "name": "ipython",
        "version": 3
      },
      "file_extension": ".py",
      "mimetype": "text/x-python",
      "name": "python",
      "nbconvert_exporter": "python",
      "pygments_lexer": "ipython3",
      "version": "3.9.4"
    }
  },
  "nbformat": 4,
  "nbformat_minor": 0
}